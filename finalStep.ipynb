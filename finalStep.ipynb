{
 "metadata": {
  "name": "",
  "signature": "sha256:14356647935d179fc23b872806e00789e74b2c64e8c01946e9e80ef0df81750e"
 },
 "nbformat": 3,
 "nbformat_minor": 0,
 "worksheets": [
  {
   "cells": [
    {
     "cell_type": "code",
     "collapsed": false,
     "input": [
      "import pickle,nltk,gensim,string\n",
      "from sklearn.feature_extraction.text import TfidfVectorizer\n",
      "from nltk.stem.porter import PorterStemmer\n",
      "from collections import defaultdict\n",
      "import numpy as np\n",
      "from operator import itemgetter\n",
      "from gensim import models\n",
      "from gensim import corpora,similarities\n",
      "from gensim.corpora import TextCorpus, MmCorpus,Dictionary"
     ],
     "language": "python",
     "metadata": {},
     "outputs": [
      {
       "output_type": "stream",
       "stream": "stderr",
       "text": [
        "/Users/Artemis/anaconda/lib/python2.7/site-packages/numpy/lib/utils.py:95: DeprecationWarning: `scipy.sparse.sparsetools` is deprecated!\n",
        "scipy.sparse.sparsetools is a private module for scipy.sparse, and should not be used.\n",
        "  warnings.warn(depdoc, DeprecationWarning)\n",
        "/Users/Artemis/anaconda/lib/python2.7/site-packages/scipy/lib/_util.py:35: DeprecationWarning: Module scipy.linalg.blas.fblas is deprecated, use scipy.linalg.blas instead\n",
        "  DeprecationWarning)\n"
       ]
      },
      {
       "output_type": "stream",
       "stream": "stderr",
       "text": [
        "/Users/Artemis/anaconda/lib/python2.7/site-packages/scipy/lib/_util.py:35: DeprecationWarning: Module scipy.linalg.blas.fblas is deprecated, use scipy.linalg.blas instead\n",
        "  DeprecationWarning)\n",
        "/Users/Artemis/anaconda/lib/python2.7/site-packages/scipy/lib/_util.py:35: DeprecationWarning: Module scipy.linalg.blas.fblas is deprecated, use scipy.linalg.blas instead\n",
        "  DeprecationWarning)\n",
        "/Users/Artemis/anaconda/lib/python2.7/site-packages/scipy/lib/_util.py:35: DeprecationWarning: Module scipy.linalg.blas.fblas is deprecated, use scipy.linalg.blas instead\n",
        "  DeprecationWarning)\n",
        "/Users/Artemis/anaconda/lib/python2.7/site-packages/scipy/lib/_util.py:35: DeprecationWarning: Module scipy.linalg.blas.fblas is deprecated, use scipy.linalg.blas instead\n",
        "  DeprecationWarning)\n",
        "/Users/Artemis/anaconda/lib/python2.7/site-packages/scipy/lib/_util.py:35: DeprecationWarning: Module scipy.linalg.blas.fblas is deprecated, use scipy.linalg.blas instead\n",
        "  DeprecationWarning)\n"
       ]
      }
     ],
     "prompt_number": 2
    },
    {
     "cell_type": "code",
     "collapsed": false,
     "input": [
      "stemmer = PorterStemmer()\n",
      "\n",
      "def getText(sample):\n",
      "    \"\"\">>> getText(sample) returns joined text, inspiration and when they met\"\"\"\n",
      "    return ' '.join([i for i in sample['inspiraton']]+sample['metPars'])\n",
      "\n",
      "def reloadSavedData():\n",
      "    dct = defaultdict()\n",
      "    objs = pickle.load(open('data_with_metStories'))\n",
      "    for obj in objs:\n",
      "        dct[obj['name']] = obj\n",
      "    return dct\n",
      "\n",
      "def getdct(data):\n",
      "    dct = {}\n",
      "    for key in data.keys():\n",
      "        dct[data[key]['name']] = getText(data[key])\n",
      "    return dct\n",
      "\n",
      "data = getdct(reloadSavedData())\n",
      "keys = data.keys()"
     ],
     "language": "python",
     "metadata": {},
     "outputs": [],
     "prompt_number": 4
    },
    {
     "cell_type": "code",
     "collapsed": false,
     "input": [],
     "language": "python",
     "metadata": {},
     "outputs": [],
     "prompt_number": 4
    },
    {
     "cell_type": "code",
     "collapsed": false,
     "input": [],
     "language": "python",
     "metadata": {},
     "outputs": [],
     "prompt_number": 4
    },
    {
     "cell_type": "code",
     "collapsed": false,
     "input": [
      "def stem(tokens,stemmer):\n",
      "    # Stem tokens\n",
      "    return [stemmer.stem(item) for item in tokens]\n",
      "\n",
      "def tokenize(text):\n",
      "    tokens = [i.lower() for i in nltk.word_tokenize(text) if i not in string.punctuation]\n",
      "    return stem(tokens,stemmer)\n",
      "\n",
      "\n",
      "def getTFIDF(data):\n",
      "    #For each block of text: put into dictionary with \n",
      "    #name as the key and value as the untokenized text\n",
      "    #Use for TF idf, no longer need?\n",
      "    dct = getdct(data)\n",
      "    tfidf = TfidfVectorizer(tokenizer=tokenize,stop_words='english')\n",
      "    return tfidf.fit_transform(dct.values())\n",
      "\n"
     ],
     "language": "python",
     "metadata": {},
     "outputs": [],
     "prompt_number": 5
    },
    {
     "cell_type": "code",
     "collapsed": false,
     "input": [
      "def getDocs(dct,keys):\n",
      "    return [tokenize(dct[key]) for key in keys]\n",
      "\n",
      "def getLSIModel(dct,keys,redo=False):\n",
      "    if redo:\n",
      "        docs = getDocs(dct,keys)\n",
      "        id2word = corpora.Dictionary(docs)\n",
      "        corpus = [id2word.doc2bow(doc) for doc in docs]\n",
      "        lsi = models.LsiModel(corpus, id2word=id2word, num_topics=20, chunksize=1, distributed=False)\n",
      "        pickle.dump(lsi,open('lsi_model','w'))\n",
      "    else:\n",
      "        lsi = pickle.load(open('lsi_model','r'))\n",
      "    return lsi\n",
      "\n",
      "def createIndex(lsi,corpus):\n",
      "    return similarities.MatrixSimilarity(lsi[corpus])\n",
      "\n",
      "def getSimilarities(tokens,id2word,index,lsi):\n",
      "    #make sure tokens are stemmed\n",
      "    #higher is more similar <-1,1>\n",
      "    \"\"\">>> getSimilarities(tokens,index,lsi)\n",
      "    [(0, 0.19454564),\n",
      "     (1, 0.20364338),\n",
      "     (2, 0.32875058),\n",
      "     (3, 0.28404596)]\n",
      "    \"\"\"\n",
      "    return list(enumerate(index[lsi[id2word.doc2bow(tokens)]]))\n",
      "\n",
      "def getTopN(met,wishes,n=3):\n",
      "    tokens = tokenize(met) + [\" \"] + tokenize(met)\n",
      "    keys = pickle.load(open('keys','r'))\n",
      "    lsi = pickle.load(open('lsi_model','r'))\n",
      "    index = pickle.load(open('index.pickle','r'))\n",
      "    id2word = pickle.load(open('id2word.pickle','r'))\n",
      "    similarities = getSimilarities(tokens,id2word,index,lsi)\n",
      "    top = sorted(similarities,key=itemgetter(1))[-n:]\n",
      "    return [keys[item[0]] for item in top]"
     ],
     "language": "python",
     "metadata": {},
     "outputs": [],
     "prompt_number": 6
    },
    {
     "cell_type": "code",
     "collapsed": false,
     "input": [
      "\"\"\"\n",
      "docs = getDocs(data,keys)\n",
      "id2word = corpora.Dictionary(docs)\n",
      "corpus = [id2word.doc2bow(doc) for doc in docs]\n",
      "lsi = getLSIModel(data,keys,redo=True)\n",
      "index = createIndex(lsi,corpus)\n",
      "\"\"\""
     ],
     "language": "python",
     "metadata": {},
     "outputs": [
      {
       "metadata": {},
       "output_type": "pyout",
       "prompt_number": 7,
       "text": [
        "'\\ndocs = getDocs(data,keys)\\nid2word = corpora.Dictionary(docs)\\ncorpus = [id2word.doc2bow(doc) for doc in docs]\\nlsi = getLSIModel(data,keys,redo=True)\\nindex = createIndex(lsi,corpus)\\n'"
       ]
      }
     ],
     "prompt_number": 7
    },
    {
     "cell_type": "code",
     "collapsed": false,
     "input": [
      "\"\"\"\n",
      "pickle.dump(keys,open('keys','w'))\n",
      "pickle.dump(corpus,open('corpus.pickle','w'))\n",
      "pickle.dump(id2word,open('id2word.pickle','w'))\n",
      "pickle.dump(docs,open('docs.pickle','w'))\n",
      "pickle.dump(index,open('index.pickle','w'))\n",
      "\"\"\""
     ],
     "language": "python",
     "metadata": {},
     "outputs": []
    },
    {
     "cell_type": "code",
     "collapsed": false,
     "input": [
      "#print tfidf.get_feature_names()\n",
      "#Try on new string tfidf.transform([str])\n",
      "#Try on new string tfidf.fit_and_transform([str]) - incorporates anything already seen"
     ],
     "language": "python",
     "metadata": {},
     "outputs": []
    },
    {
     "cell_type": "code",
     "collapsed": false,
     "input": [
      "def expand(query):\n",
      "    #Tag query, identify all adjectives and noun variants, then expand query with graph data\n",
      "    tagged = nltk.pos_tag(query)\n",
      "    return \n",
      "\n",
      "def tokenize(text):\n",
      "    tokens = [i.lower() for i in nltk.word_tokenize(text) if i not in string.punctuation]\n",
      "    return tokens\n",
      "\n",
      "items = getTopN(\"met in chinese school\",\"would like college inspired\",n=3)"
     ],
     "language": "python",
     "metadata": {},
     "outputs": [],
     "prompt_number": 12
    },
    {
     "cell_type": "code",
     "collapsed": false,
     "input": [
      "query = tokenize(\"walked in chinese school\")\n",
      "items = [item[0] for item in nltk.pos_tag(query) if item[1] in set(['NN','NNS','JJ','VBG','VBD'])]\n",
      "for item in "
     ],
     "language": "python",
     "metadata": {},
     "outputs": [],
     "prompt_number": 21
    },
    {
     "cell_type": "code",
     "collapsed": false,
     "input": [
      "for item in items:\n",
      "    print data[item]"
     ],
     "language": "python",
     "metadata": {},
     "outputs": [
      {
       "output_type": "stream",
       "stream": "stdout",
       "text": [
        "chose the recessional song for the ceremony Married Life and the End Credits from Pixar s Up chose the ceremony songs together an assortment of piano versions of Joe Hisaishi s music from various Studio Ghibli/Hayao Miyazaki films wanted his input From the beautiful Bride People are always surprised to hear that though we re high school sweethearts, we didn t actually go to the same high school! We first met at Irvine Chinese School, where we emceed the annual Chinese New Year Festival together. We spent several months practicing nearly every day for this event. At first, we were a little shy, and consciously avoided eye contact with each other. A few practices in, though, we decided that if we were going to be spending so much time over the next few months that we might as well get to know each other! That was the beginning of a beautiful friendship. We sat near the edge, with a wonderful view of our street. Michael started talking about our nine year journey together, and Jenn was joking around with him (because she was totally oblivious about what was happening). Very early on in our relationship, Jenn asked Michael  who she was to him  and during his  speech,  Michael described how she came to be the supportive, warm, and loving person that he loved. Jenn only started catching on when he started describing who he hoped she would be in the future and just as she began to suspect something was happening, Michael was on one knee, asking her to marry him! Jenn said something like  of COURSE I ll marry you!  and would later wish she had said something more elegant! We were hoping for something intimate, though we knew that our guest list would end up being much bigger. So, our vision for the wedding was something less formal, not in the typical ballroom, and could feel casual, intimate, yet momentous all at the same time. We had hoped for at least part of the wedding to be outdoors and ended up choosing to do the ceremony at Crossline Community Church, and the reception outdoors at Shady Canyon Golf Club. We had toyed with the idea of using tents but ultimately, decided on string lighting. Jenn s friend showed her a picture of some lanterns, and given that we both loved the idea and the look, that was immediately incorporated into our plans. As for colors, our immediate thought was blue and green, our two favorite colors. After much Pinterest boarding, though, Jenn suggested something truly out of character switching to navy blue and blush. Michael, surprisingly, liked this idea better, so that was that! Jenn knows that she is not very decisive, and that her opinion of how things look is sometimes too easily swayed by price. So, she took someone whose taste she trusted unequivocally her future husband! Jenn thought it was as much her dress as his, and honestly wanted his input. We went to several shops, in California and in DC, and found  the dress  the Augusta Jones Juno. Unfortunately, it was a bit over budget so Jenn (ever-resourceful) found a never-worn one online at a third of the price, and had it altered in DC.\n"
       ]
      }
     ],
     "prompt_number": 140
    },
    {
     "cell_type": "code",
     "collapsed": false,
     "input": [],
     "language": "python",
     "metadata": {},
     "outputs": [],
     "prompt_number": 15
    },
    {
     "cell_type": "code",
     "collapsed": false,
     "input": [],
     "language": "python",
     "metadata": {},
     "outputs": [],
     "prompt_number": 41
    },
    {
     "cell_type": "code",
     "collapsed": false,
     "input": [],
     "language": "python",
     "metadata": {},
     "outputs": [
      {
       "output_type": "stream",
       "stream": "stderr",
       "text": [
        "WARNING:gensim.similarities.docsim:scanning corpus to determine the number of features (consider setting `num_features` explicitly)\n"
       ]
      }
     ],
     "prompt_number": 20
    },
    {
     "cell_type": "code",
     "collapsed": false,
     "input": [],
     "language": "python",
     "metadata": {},
     "outputs": []
    }
   ],
   "metadata": {}
  }
 ]
}