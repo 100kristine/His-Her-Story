{
 "metadata": {
  "name": "",
  "signature": "sha256:5eb92558c5c9667d4fd38b0caa52e8524f3aba9e76b64de915168bac96ee98c1"
 },
 "nbformat": 3,
 "nbformat_minor": 0,
 "worksheets": [
  {
   "cells": [
    {
     "cell_type": "code",
     "collapsed": false,
     "input": [
      "import nltk,pickle\n",
      "from nltk.corpus import wordnet as wn\n",
      "from collections import defaultdict\n",
      "import string"
     ],
     "language": "python",
     "metadata": {},
     "outputs": [],
     "prompt_number": 2
    },
    {
     "cell_type": "code",
     "collapsed": false,
     "input": [
      "files = [\"California_1-21\",\"California_22-81\",\"California_83-143\"]\n",
      "\n",
      "def loadData(files):\n",
      "    #data in format {url: textObject}\n",
      "    res = []\n",
      "    for f in files:\n",
      "        res += pickle.load(open(f,'r'))\n",
      "    d = defaultdict()\n",
      "    for result in res:\n",
      "        d[result['original_link']] = result\n",
      "    return d\n",
      "\n",
      "data = loadData(files)"
     ],
     "language": "python",
     "metadata": {},
     "outputs": [
      {
       "ename": "NameError",
       "evalue": "global name 'pickle' is not defined",
       "output_type": "pyerr",
       "traceback": [
        "\u001b[0;31m---------------------------------------------------------------------------\u001b[0m\n\u001b[0;31mNameError\u001b[0m                                 Traceback (most recent call last)",
        "\u001b[0;32m<ipython-input-1-63f91c44197c>\u001b[0m in \u001b[0;36m<module>\u001b[0;34m()\u001b[0m\n\u001b[1;32m     11\u001b[0m     \u001b[0;32mreturn\u001b[0m \u001b[0md\u001b[0m\u001b[0;34m\u001b[0m\u001b[0m\n\u001b[1;32m     12\u001b[0m \u001b[0;34m\u001b[0m\u001b[0m\n\u001b[0;32m---> 13\u001b[0;31m \u001b[0mdata\u001b[0m \u001b[0;34m=\u001b[0m \u001b[0mloadData\u001b[0m\u001b[0;34m(\u001b[0m\u001b[0mfiles\u001b[0m\u001b[0;34m)\u001b[0m\u001b[0;34m\u001b[0m\u001b[0m\n\u001b[0m",
        "\u001b[0;32m<ipython-input-1-63f91c44197c>\u001b[0m in \u001b[0;36mloadData\u001b[0;34m(files)\u001b[0m\n\u001b[1;32m      5\u001b[0m     \u001b[0mres\u001b[0m \u001b[0;34m=\u001b[0m \u001b[0;34m[\u001b[0m\u001b[0;34m]\u001b[0m\u001b[0;34m\u001b[0m\u001b[0m\n\u001b[1;32m      6\u001b[0m     \u001b[0;32mfor\u001b[0m \u001b[0mf\u001b[0m \u001b[0;32min\u001b[0m \u001b[0mfiles\u001b[0m\u001b[0;34m:\u001b[0m\u001b[0;34m\u001b[0m\u001b[0m\n\u001b[0;32m----> 7\u001b[0;31m         \u001b[0mres\u001b[0m \u001b[0;34m+=\u001b[0m \u001b[0mpickle\u001b[0m\u001b[0;34m.\u001b[0m\u001b[0mload\u001b[0m\u001b[0;34m(\u001b[0m\u001b[0mopen\u001b[0m\u001b[0;34m(\u001b[0m\u001b[0mf\u001b[0m\u001b[0;34m,\u001b[0m\u001b[0;34m'r'\u001b[0m\u001b[0;34m)\u001b[0m\u001b[0;34m)\u001b[0m\u001b[0;34m\u001b[0m\u001b[0m\n\u001b[0m\u001b[1;32m      8\u001b[0m     \u001b[0md\u001b[0m \u001b[0;34m=\u001b[0m \u001b[0mdefaultdict\u001b[0m\u001b[0;34m(\u001b[0m\u001b[0;34m)\u001b[0m\u001b[0;34m\u001b[0m\u001b[0m\n\u001b[1;32m      9\u001b[0m     \u001b[0;32mfor\u001b[0m \u001b[0mresult\u001b[0m \u001b[0;32min\u001b[0m \u001b[0mres\u001b[0m\u001b[0;34m:\u001b[0m\u001b[0;34m\u001b[0m\u001b[0m\n",
        "\u001b[0;31mNameError\u001b[0m: global name 'pickle' is not defined"
       ]
      }
     ],
     "prompt_number": 1
    },
    {
     "cell_type": "code",
     "collapsed": false,
     "input": [
      "files = [\"California_1-21\",\"California_22-81\",\"California_83-143\"]\n",
      "\n",
      "def loadData(files):\n",
      "    #data in format {url: textObject}\n",
      "    res = []\n",
      "    for f in files:\n",
      "        res += pickle.load(open(f,'r'))\n",
      "    d = defaultdict()\n",
      "    for result in res:\n",
      "        d[result['original_link']] = result\n",
      "    return d\n",
      "\n",
      "data = loadData(files)"
     ],
     "language": "python",
     "metadata": {},
     "outputs": [],
     "prompt_number": 26
    },
    {
     "cell_type": "code",
     "collapsed": false,
     "input": [
      "sent_tokenizer=nltk.data.load('tokenizers/punkt/english.pickle')"
     ],
     "language": "python",
     "metadata": {},
     "outputs": [],
     "prompt_number": 13
    },
    {
     "cell_type": "code",
     "collapsed": false,
     "input": [
      "def tokenize(pars):\n",
      "    #tokenize text\n",
      "    # returns cleaned [tokenized sentences without punctuation] and collapsed [no dividers between sentences]\n",
      "    strng = ' '.join(pars)\n",
      "    words = [nltk.word_tokenize(sent) for sent in nltk.sent_tokenize(strng)]\n",
      "    punct = string.punctuation\n",
      "    cleaned = []\n",
      "    collapsed = []\n",
      "    for sentence in words:\n",
      "        cleaned.append([word for word in sentence if word not in punct])\n",
      "        for word in sentence:\n",
      "            if word not in punct:\n",
      "                collapsed.append(word)\n",
      "    return cleaned,collapsed\n",
      "\n",
      "def tag(sents):\n",
      "    #tag text\n",
      "    return [nltk.pos_tag(sent) for sent in sents]\n",
      "\n",
      "def tagAll(textObjects):\n",
      "    tagged = []\n",
      "    for obj in textObjects:\n",
      "        tagged.append([tag(text) for text in obj['paragraphs']])\n",
      "    return tagged\n",
      "\n",
      "def tagNtoken(data):\n",
      "    for url in data.keys():\n",
      "        cleaned,collapsed = tokenize(data[url]['paragraphs'])\n",
      "        data[url]['tokens'] = cleaned\n",
      "        data[url]['tagged'] = tag(data[url]['tokens'])\n",
      "        data[url]['collapsed'] = collapsed\n",
      "    return data\n",
      "\n"
     ],
     "language": "python",
     "metadata": {},
     "outputs": [],
     "prompt_number": 123
    },
    {
     "cell_type": "code",
     "collapsed": false,
     "input": [
      "data = tagNtoken(data)\n",
      "\n",
      "f = open('tagged_tokenized_data','w')\n",
      "pickle.dump(data,f)\n",
      "f.close()"
     ],
     "language": "python",
     "metadata": {},
     "outputs": []
    },
    {
     "cell_type": "markdown",
     "metadata": {},
     "source": [
      "## Save preprocessed text to data"
     ]
    },
    {
     "cell_type": "code",
     "collapsed": false,
     "input": [
      "data = tagNtoken(data)\n",
      "\n",
      "f = open('tagged_tokenized_data','w')\n",
      "pickle.dump(data,f)\n",
      "f.close()\n"
     ],
     "language": "python",
     "metadata": {},
     "outputs": [],
     "prompt_number": 124
    },
    {
     "cell_type": "markdown",
     "metadata": {},
     "source": [
      "## Analysis"
     ]
    },
    {
     "cell_type": "code",
     "collapsed": false,
     "input": [
      "test = data[data.keys()[0]]"
     ],
     "language": "python",
     "metadata": {},
     "outputs": [],
     "prompt_number": 131
    },
    {
     "cell_type": "code",
     "collapsed": false,
     "input": [
      "test.keys()"
     ],
     "language": "python",
     "metadata": {},
     "outputs": [
      {
       "metadata": {},
       "output_type": "pyout",
       "prompt_number": 133,
       "text": [
        "['tagged',\n",
        " 'tags',\n",
        " 'collapsed',\n",
        " 'tokens',\n",
        " 'paragraphs',\n",
        " 'original_link',\n",
        " 'categories']"
       ]
      }
     ],
     "prompt_number": 133
    },
    {
     "cell_type": "code",
     "collapsed": false,
     "input": [
      "print  \" \".join(test['collapsed'])\n",
      "\"I wanted\"\n",
      "\"Since/Because\"\n",
      "\"avoided\" in same sentence as tradition # need tradition markers\n",
      "#family\n",
      "#bittersweet\n",
      "#it was important to me"
     ],
     "language": "python",
     "metadata": {},
     "outputs": [
      {
       "output_type": "stream",
       "stream": "stdout",
       "text": [
        "The eclectic beauty of this Santa Barbara soiree stuns with pin-worthy details sprinkled throughout the day s events Set at Villa Verano a Mission style estate the ceremony and reception were both ridiculously ravishing The only thing brighter than the vibrant decor was the bride s smile one look at the gallery shot by Mirelle Carmichael Photography and it s not too hard to see why After that I knew he was the one However our respective geographies poised a problem I lived in California and Ammar lived literally wherever his job took him After a month of long distance Ammar joined me in California where we took a blissful 6 month vacation from life we traveled up and down Highway 101 starting in Carmel and working our way down to San Diego and all the way back up to my hometown of Portland Oregon When it came time to choose a place for our wedding we knew it had to be somewhere along the California coastline as an homage to our epic road trip After our sabbatical I traveled to Pakistan to meet Ammar s family where we got engaged It was bittersweet while we knew we were going to get married at some point we didn t exactly know when that would be A few months after we were engaged Ammar was finally assigned his next posting in Abuja Nigeria Let s just say we became very skilled at Skype With my life on hold and my fianc living in Africa I had some free time on my hands to start planning our wedding To keep myself awake long enough to talk to Ammar every night I wound up spending countless hours reading wedding blogs and perusing Pinterest I eventually moved to be with Ammar in Nigeria where my master planning continued We live on a compound run by Ammar s humanitarian organization while the internet and power were a bit spotty and the idea of a Santa Barbara wedding seemed worlds away planning our wedding became a daydream-esque hobby Needless to say I had every detail planned and ready by April 12th 2014 Because Ammar and I live so far away from our loved ones we wanted an experience where everyone could be together at one place for an extended weekend celebration I shied away from the traditional wedding venues as I wanted to dance the night away without having to worry about time limits Enter Villa Verano It s a stunning private property located in the hills of Santa Barbara with built-in d cor and old mission style ambiance The space has multiple guest rooms so our entire bridal party was able to stay on the premises It was important to me that every detail of our wedding was homemade and touched by a loved one From the throw pillows my mother sewed to the chalkboard my father built in our garage to the wedding menus my sister designed to the jam and pickle favors I made with my grandmother everything had a story behind it I wanted my wedding to have an organic small homemade intimate feel similar in essence to the dinner parties I love to throw for friends and family I choose my vendors with this sentiment in mind as well All the hard work and attention to detail paid off It was a truly magical night I remember walk around stunned thinking to myself it s exactly how I thought it would look\n"
       ]
      }
     ],
     "prompt_number": 142
    },
    {
     "cell_type": "code",
     "collapsed": false,
     "input": [
      "test2 = data[data.keys()[1]]"
     ],
     "language": "python",
     "metadata": {},
     "outputs": [],
     "prompt_number": 143
    },
    {
     "cell_type": "code",
     "collapsed": false,
     "input": [
      "' '.join(test2['collapsed'])\n",
      "\n",
      "#<>"
     ],
     "language": "python",
     "metadata": {},
     "outputs": [
      {
       "metadata": {},
       "output_type": "pyout",
       "prompt_number": 144,
       "text": [
        "'There s no doubt that gorgeous imagery is our fuel It s what keeps us going every day But the stories The stories are pure heart they transform a pretty picture into a moment This Bacara Resort beauty from Michael Anna Costa came to life after reading the Bride s simply sweet story of love over a 12 year span From high school sweethearts to college a move to the caribbean a proposal and planning a wedding with the help of Bob Gail Special Events you can feel the love pouring from this gallery From the beautiful Bride Matthew and I met 12 years ago while in high school in Carlsbad CA Matthew finishing his junior year and myself a senior about to graduate and head to LA for college at Loyola Marymount University Even though we meet at the end of high school we always call ourselves high school sweethearts because we can t remember what it was even like without one another Both of us were born and raised in Carlsbad and attended the same junior high and high school I was the first to admired Matthew from a distance before I finally asked a mutual friend about him if he was single and a good guy I think it was about a week later we had our first date and shortly thereafter we were two teenagers who were falling madly in love One year later Matthew followed me to college at LMU In the years that followed throughout undergraduate school we had some ups and downs but our life journey always brought us back to one another Once we both graduated college we truly knew what we had and our relationship grew to an unbreakable bond Living together in Westchester I quickly started working in Finance and Matthew was working as a Vet tech applying to Veterinary schools After a few years he was accepted into Ross University a school in the West Indies After many in depth conversations we decided to take the opportunity and make the big move At first it was really hard to leave our life in Southern California the familiarity we had built my career and of course our family and friends but shortly after the move we realized everything was happening for a reason We were on this once in a lifetime adventure together meeting great friends and experiencing a different way of life Being away and only having one another to lean on for everything our relationship grew to strongest it had ever been We had a life together on an island in the Caribbean and it was amazing We lived there with our two children our dogs and during our time there adopted two more It was our first big adventure together and we loved what it did not only for us as individuals but together as a couple After living in the Caribbean for a little over 2 years we finished his last year of school his clinical year at Auburn University in Auburn Alabama The South was a great experience but we were happy to head back to Los Angeles when the time came As of recently we are back in beautiful Southern California With a new and exciting outlook on life we hope to start putting down some roots soon and enjoy lifes special moments together as a family We will forver be open to new adventures so who knows what the future may hold Throughout all our years together and especially the last few away we have undoubtedly become stronger wiser more compassionate and even closer bestfriends And above all we truly love each other more everyday Matthew proposed in the fall of our second year on the island a proposal that was totally a surprise Something that is hard to do when you have been with someone for a decade and already very intertwined He somehow pulled it off and caught me completely off guard and with the sweetest proposal In true Matthew form it included animals a story about penguins and how they pick one mate for life I was blown away not only that the whole thing was happening but by how nervous he was it was simply so sweet It made me giggle because after a decade I don t know how he ever thought for one second I would hesitate that yes he was so anxious to hear It was such special day I now had a fiance and a new journey to look forward to together all while enjoying the beautiful scenery we called home the Carribean After about a month of being engaged I knew it was time to start thinking about planning The initial planning part was a little overwhelming at first I didn t know where to begin Mainly because I was trying to start it all from the Caribbean which meant I had to make quick trips back to California that were always a whirlwind with so much to do and see All of which I know wouldn t have been possible without the help of our amazing families and the best girlfriends a girl could ever ask for I remember seeing Bacara online before I saw it in person and we both fell in love We loved that it was in Santa Barbara a place we think of as beautiful and romantic which is a perfect backdrop for a wedding It was luxurious and esquisite but still had that cool California coastal feel We knew we wanted the vibe of the day to have touchs of old hollywood glam but with modern elements so as soon as I visited Bacara in person I knew it was the perfect place Plus we knew at Bacara guests would feel like they were getting away for the weekend rather than just attending a wedding for a few hours Once we set our fall date I knew that was the easiest part and what was to come would be hard because now we had so many details to decide on That overwhelming feeling all changed when fate brought me to my first phone call with Allyson Joseph of Bob Gail Special Events Hiring Ally as our wedding planner was the easiest decision I ever made we had an instant connection From the beginning Ally understood our vision and that showed throughout the whole process She remembered and applied detail that is above and beyond A five star service I know is one of a kind We are so thankful for Ally Lexi Katie and the whole team Not only did they do a great job but they work with and recommed the best of the best so our vendors were impecable I truly don t know what I would have done without her expertise she just got me and was always there to talk me through every detail Being long distance from one another that was something I really valued and appreciated As a result of our wedding not only did we meet an event planner for life but most importantly a friend for life she truly is like family along with the rest of the Bob Gail team Having our family and closest friends all together to celebrate our much anticipated day and with so much to be grateful for it was simply perfection Our big day was beyond what I could have ever imagined It was really important to us to provide our guests with an environment that made for an effortless evening a sense of being taken care of We wanted them to enjoy and party all night long without any care Something Ally made sure went off without a hitch thorughout the whole day When it finally came time to walk down the aisle as soon as I locked eyes with Matthew I knew all the extra stuff was just an added bonus He truly is my heart and soul After the ceremony we had a short but very special few minutes alone just us and the sunset where we had a chance to take everything in and just enjoy the moment together Once we made our way up to the reception area I remember walking in for a sneak peek and even though I knew how everything was going to be set up there was nothing that could prepare me for how special it all felt when I stood in front of all our visions and dreams in real time it was overwhelming in the best kind of way From absolutely beautiful weather and scenery all weekend long to the presence of our closest family and friends to the exquisite detail to the gorgous flowers to the abubndance of food drinks and to the most amazing band we couldn t have asked for a more perfect day We are so grateful we have beautiful photos from Michael and Anna Costa to look at for years to come and of course a video we can t to watch from Vidicam Productions Looking back on the day Matthew and I feel so lucky to have shared it all together It was truly everything we dreamed of and so much more A special thank you to everyone who was there to celebrate the start of our happily ever after with us'"
       ]
      }
     ],
     "prompt_number": 144
    },
    {
     "cell_type": "code",
     "collapsed": false,
     "input": [],
     "language": "python",
     "metadata": {},
     "outputs": []
    }
   ],
   "metadata": {}
  }
 ]
}