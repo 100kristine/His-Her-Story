{
 "metadata": {
  "name": "",
  "signature": "sha256:9cbf5d0491adaa8f9e6a30c27e2365040a43d17df1c4adb2ae73b1788ee53cce"
 },
 "nbformat": 3,
 "nbformat_minor": 0,
 "worksheets": [
  {
   "cells": [
    {
     "cell_type": "code",
     "collapsed": false,
     "input": [
      "from collections import defaultdict\n",
      "from nltk.corpus import stopwords\n",
      "from nltk.util import bigrams,trigrams\n",
      "stop = set(stopwords.words())\n",
      "obj = {'categories': {'colors': ['lavender', 'light-pink', 'peach', 'purple'],\n",
      " 'seasons': ['spring'],\n",
      " 'settings': ['beach-resort'],\n",
      " 'styles': ['elegant']}}\n",
      "\n",
      "\n",
      "obj2 = {'categories':{'colors': ['blue', 'green', 'orange'],\n",
      " 'seasons': ['fall'],\n",
      " 'settings': ['al-fresco'],\n",
      " 'styles': ['classic']}}\n",
      "\n",
      "\n",
      "text = 'I wanted the inside of the reception room to be a white wonderland with flowers galore and the furniture to be sleek white and contemporary with a lounge feel'\n",
      "\n",
      "text2 =  'The ceremony was the most special for me. Having my mother walk me down the aisle, to Louis Armstrong s  What a Wonderful World  brought tears to our eyes. A dear friend performed the ceremony that combined the traditions and values of our two cultures thoughtfully and respectfully. We included the Jewish traditions of the Chuppah and Ketubah, as well as stomping on a glass, and of course we danced the Hora at the reception. A friend of mine read a verse from the old testament and the new, representing the Christian faith of my family. Three of my mother s friends wrote a song for us, and performed it at dinner, which was a tradition in their family that was a hilarious addition to our night.'"
     ],
     "language": "python",
     "metadata": {},
     "outputs": [],
     "prompt_number": 100
    },
    {
     "cell_type": "code",
     "collapsed": false,
     "input": [
      "type(stopwords.words())"
     ],
     "language": "python",
     "metadata": {},
     "outputs": [
      {
       "metadata": {},
       "output_type": "pyout",
       "prompt_number": 99,
       "text": [
        "list"
       ]
      }
     ],
     "prompt_number": 99
    },
    {
     "cell_type": "markdown",
     "metadata": {},
     "source": [
      "## Wedding Graph"
     ]
    },
    {
     "cell_type": "code",
     "collapsed": false,
     "input": [
      "class Graph:\n",
      "    \"\"\"Weighted undirected graph to model relationships between words. \n",
      "    Example:\n",
      "    >>> graph = Graph()\n",
      "    >>> graph.addObjs(objs)\n",
      "    >>> graph.getFreq('family',10) #get the top n words related to family\n",
      "    ['traditions',\n",
      "     'performed',\n",
      "     'mother',\n",
      "     'friend',\n",
      "     'ceremony',\n",
      "     'wrote',\n",
      "     'world',\n",
      "     'wonderful',\n",
      "     'well',\n",
      "     'walk']\n",
      "    \"\"\"\n",
      "    \n",
      "    def __init__(self):\n",
      "        self.graph = defaultdict(lambda:defaultdict(int))\n",
      "\n",
      "    def addObjs(self,data):\n",
      "        #Adds word to graph\n",
      "        for obj in data:\n",
      "            categories = reduce(lambda x,y: x+y, [obj['categories'][key] for key in obj['categories'].keys()])\n",
      "            collapsed = categories + obj['textItems']\n",
      "            for item in collapsed:\n",
      "                for other in collapsed:\n",
      "                    if other != item:\n",
      "                        self.graph[item][other] += 1\n",
      "    \n",
      "    def getFreq(self,word,n):\n",
      "        #Get top n frequencies of connected words\n",
      "        top = [(self.graph[word][key],key) for key in self.graph[word].keys()]\n",
      "        top.sort(reverse=True)\n",
      "        return [top[i][1] for i in range(n)]\n",
      "    "
     ],
     "language": "python",
     "metadata": {},
     "outputs": [],
     "prompt_number": 94
    },
    {
     "cell_type": "code",
     "collapsed": false,
     "input": [
      "obj['textItems'] = removeStopwords(text)\n",
      "obj2['textItems'] = removeStopwords(text2)"
     ],
     "language": "python",
     "metadata": {},
     "outputs": [],
     "prompt_number": 32
    },
    {
     "cell_type": "code",
     "collapsed": false,
     "input": [
      "k = reduce(lambda x,y: x+y, [obj['categories'][key] for key in obj['categories'].keys()])\n",
      "k"
     ],
     "language": "python",
     "metadata": {},
     "outputs": [
      {
       "metadata": {},
       "output_type": "pyout",
       "prompt_number": 34,
       "text": [
        "['elegant',\n",
        " 'spring',\n",
        " 'lavender',\n",
        " 'light-pink',\n",
        " 'peach',\n",
        " 'purple',\n",
        " 'beach-resort']"
       ]
      }
     ],
     "prompt_number": 34
    },
    {
     "cell_type": "markdown",
     "metadata": {},
     "source": [
      "## Unigrams, Bigrams, and Trigrams"
     ]
    },
    {
     "cell_type": "code",
     "collapsed": false,
     "input": [
      "def removeStopwords(text):\n",
      "    return [word.lower() for word in text.split(' ') if len(word) > 2 and word.lower() not in stop]\n",
      "\n",
      "def cleanUnigrams(sample):\n",
      "    return reduce(lambda x,y:x+y,[removeStopwords(sentence) for sentence in sample['tokens']])\n",
      "\n",
      "def cleanTrigrams(sample):\n",
      "    cleaned = []\n",
      "    trigrams(sample['tokens'])\n",
      "    return ['']\n",
      "\n",
      "def cleanBigrams(sample):\n",
      "    return\n",
      "\n",
      "cleaned"
     ],
     "language": "python",
     "metadata": {},
     "outputs": [
      {
       "metadata": {},
       "output_type": "pyout",
       "prompt_number": 101,
       "text": [
        "['wanted',\n",
        " 'inside',\n",
        " 'reception',\n",
        " 'room',\n",
        " 'white',\n",
        " 'wonderland',\n",
        " 'flowers',\n",
        " 'galore',\n",
        " 'furniture',\n",
        " 'sleek',\n",
        " 'white',\n",
        " 'contemporary',\n",
        " 'lounge',\n",
        " 'feel']"
       ]
      }
     ],
     "prompt_number": 101
    },
    {
     "cell_type": "code",
     "collapsed": false,
     "input": [],
     "language": "python",
     "metadata": {},
     "outputs": [],
     "prompt_number": 5
    },
    {
     "cell_type": "code",
     "collapsed": false,
     "input": [
      "for item in categories.keys():\n",
      "    print item"
     ],
     "language": "python",
     "metadata": {},
     "outputs": [
      {
       "output_type": "stream",
       "stream": "stdout",
       "text": [
        "styles\n",
        "seasons\n",
        "colors\n",
        "settings\n"
       ]
      }
     ],
     "prompt_number": 7
    },
    {
     "cell_type": "code",
     "collapsed": false,
     "input": [
      "text"
     ],
     "language": "python",
     "metadata": {},
     "outputs": [
      {
       "metadata": {},
       "output_type": "pyout",
       "prompt_number": 10,
       "text": [
        "['I',\n",
        " 'wanted',\n",
        " 'the',\n",
        " 'inside',\n",
        " 'of',\n",
        " 'the',\n",
        " 'reception',\n",
        " 'room',\n",
        " 'to',\n",
        " 'be',\n",
        " 'a',\n",
        " 'white',\n",
        " 'wonderland',\n",
        " 'with',\n",
        " 'flowers',\n",
        " 'galore',\n",
        " 'and',\n",
        " 'the',\n",
        " 'furniture',\n",
        " 'to',\n",
        " 'be',\n",
        " 'sleek',\n",
        " 'white',\n",
        " 'and',\n",
        " 'contemporary',\n",
        " 'with',\n",
        " 'a',\n",
        " 'lounge',\n",
        " 'feel']"
       ]
      }
     ],
     "prompt_number": 10
    },
    {
     "cell_type": "code",
     "collapsed": false,
     "input": [],
     "language": "python",
     "metadata": {},
     "outputs": []
    }
   ],
   "metadata": {}
  }
 ]
}