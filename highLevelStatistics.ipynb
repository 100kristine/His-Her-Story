{
 "metadata": {
  "name": "",
  "signature": "sha256:8d0640f3790af6c7e0c4d3ca6b1a6055644db08b2225582d9d815060dc463210"
 },
 "nbformat": 3,
 "nbformat_minor": 0,
 "worksheets": []
}