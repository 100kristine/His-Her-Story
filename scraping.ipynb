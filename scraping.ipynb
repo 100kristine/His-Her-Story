{
 "metadata": {
  "name": "",
  "signature": "sha256:407847ba98f4b74718ff9e0b2b7b9946c32a8154ac2a49227e8a243120a47276"
 },
 "nbformat": 3,
 "nbformat_minor": 0,
 "worksheets": [
  {
   "cells": [
    {
     "cell_type": "code",
     "collapsed": false,
     "input": [
      "import codecs,pickle\n",
      "import urllib2\n",
      "from bs4 import BeautifulSoup"
     ],
     "language": "python",
     "metadata": {},
     "outputs": [],
     "prompt_number": 1
    },
    {
     "cell_type": "code",
     "collapsed": false,
     "input": [
      "seed = \"http://www.stylemepretty.com/california-weddings/\""
     ],
     "language": "python",
     "metadata": {},
     "outputs": [],
     "prompt_number": 2
    },
    {
     "cell_type": "code",
     "collapsed": false,
     "input": [
      "def tokenize(pars):\n",
      "    #tokenize text\n",
      "    # returns cleaned [tokenized sentences without punctuation] and collapsed [no dividers between sentences]\n",
      "    strng = ' '.join(pars)\n",
      "    words = [nltk.word_tokenize(sent) for sent in nltk.sent_tokenize(strng)]\n",
      "    punct = string.punctuation\n",
      "    cleaned = []\n",
      "    collapsed = []\n",
      "    for sentence in words:\n",
      "        cleaned.append([word for word in sentence if word not in punct])\n",
      "        for word in sentence:\n",
      "            if word not in punct:\n",
      "                collapsed.append(word)\n",
      "    return cleaned,collapsed\n",
      "\n",
      "def tag(sents):\n",
      "    #tag text\n",
      "    return [nltk.pos_tag(sent) for sent in sents]\n",
      "\n",
      "def tagAll(textObjects):\n",
      "    tagged = []\n",
      "    for obj in textObjects:\n",
      "        tagged.append([tag(text) for text in obj['paragraphs']])\n",
      "    return tagged\n",
      "\n",
      "def tagNtoken(data):\n",
      "    for url in data.keys():\n",
      "        cleaned,collapsed = tokenize(data[url]['paragraphs'])\n",
      "        data[url]['tokens'] = cleaned\n",
      "        data[url]['tagged'] = tag(data[url]['tokens'])\n",
      "        data[url]['collapsed'] = collapsed\n",
      "    return data"
     ],
     "language": "python",
     "metadata": {},
     "outputs": [],
     "prompt_number": 2
    },
    {
     "cell_type": "code",
     "collapsed": false,
     "input": [
      "#Helpers\n",
      "\n",
      "def getPageHtml(url):\n",
      "    #Returns pageHtml\n",
      "    return BeautifulSoup(urllib2.urlopen(url))\n",
      "\n",
      "def getLinks(pageHtml):\n",
      "    #Get all post links on that page\n",
      "    return [post[\"data-link\"] for post in pageHtml.find(\"div\",{\"class\",\"content\"}).find_all(\"div\",{\"class\",\"post\"}) ]\n",
      "\n",
      "def getLinkNextPage(pageHtml):\n",
      "    #Find link to next page\n",
      "    nxt = [link for link in pageHtml.find_all(\"link\") if link[\"rel\"][0]=='next']\n",
      "    if len(nxt) > 0:\n",
      "        return nxt[0][\"href\"]\n",
      "    return None\n",
      "\n",
      "def getParagraphs(pageHtml):\n",
      "    return [cleanText(p.text) for p in pageHtml.find_all(\"p\") if len(p.text) > 1]\n",
      "\n",
      "def getTags(pars):\n",
      "    tags = {}\n",
      "    for entry in pars.split(\" | \"):\n",
      "        try:\n",
      "           tags[entry.split(\": \")[0]] = entry.split(\": \")[1]\n",
      "        except:\n",
      "            pass\n",
      "    return tags\n",
      "    \n",
      "def getColors(pageHtml):\n",
      "    try:\n",
      "        return [link[\"href\"][35:].strip(\"/\") for link in pageHtml.find(\"div\",{\"class\",\"swatches\"}).find_all(\"a\")]\n",
      "    except:\n",
      "        return []\n",
      "    \n",
      "def getCategories(pageHtml):\n",
      "    links = pageHtml.find(\"div\",{\"class\",\"style-guide-container\"}).find_all('a')\n",
      "    colors = []\n",
      "    styles = []\n",
      "    settings = []\n",
      "    seasons = []\n",
      "    res= {}\n",
      "    for link in links:\n",
      "        temp = link['href']\n",
      "        if \"color\" in temp:\n",
      "            colors.append(link[\"href\"][35:].strip(\"/\"))\n",
      "        elif \"season\" in temp:\n",
      "            seasons.append(link[\"href\"][35:].strip(\"/\"))\n",
      "        elif \"setting\" in temp:\n",
      "            settings.append(link[\"href\"][37:].strip(\"/\"))\n",
      "        elif \"style\" in temp:\n",
      "            styles.append(link[\"href\"][35:].strip(\"/\"))\n",
      "        else:\n",
      "            pass\n",
      "    return {'colors':colors,'styles':styles,'settings':settings,'seasons':seasons}\n",
      "\n",
      "def cleanText(text):\n",
      "    t = []\n",
      "    for char in text:\n",
      "        try:\n",
      "            t += [char.encode('ascii')]\n",
      "        except:\n",
      "            t += [\" \"]\n",
      "    return \"\".join(t)\n",
      "\n",
      "def getAttributes(pageHtml,link):\n",
      "    dct = {}\n",
      "    paragraphs = getParagraphs(pageHtml)\n",
      "    dct[\"categories\"] = getCategories(pageHtml)\n",
      "    dct[\"paragraphs\"] = paragraphs[:-1]\n",
      "    dct[\"tags\"] = getTags(paragraphs[-1])\n",
      "    dct[\"original_link\"] = link\n",
      "    return dct"
     ],
     "language": "python",
     "metadata": {},
     "outputs": [],
     "prompt_number": 3
    },
    {
     "cell_type": "code",
     "collapsed": false,
     "input": [
      "def getAllPostLinks(seedURL,numPages=2):\n",
      "    #Get post links across multiple pages\n",
      "    postLinks = []\n",
      "    currHtml = getPageHtml(seedURL)\n",
      "    while numPages > 0:\n",
      "       \n",
      "        postLinks += getLinks(currHtml)\n",
      "        nxtLink = getLinkNextPage(currHtml)\n",
      "        if nxtLink:\n",
      "            print nxtLink\n",
      "            try:\n",
      "                currHtml = getPageHtml(nxtLink)\n",
      "            except:\n",
      "                print nxtLink,\"error\"\n",
      "        else:\n",
      "            print \"not modified\"\n",
      "            break\n",
      "        numPages -= 1\n",
      "    return postLinks\n",
      "\n",
      "def pipeline(seed,num):\n",
      "    links = getAllPostLinks(seed,num)\n",
      "    pageHtmls = []\n",
      "    for link in links:\n",
      "        try:\n",
      "            entry = getAttributes(getPageHtml(link),link)\n",
      "            pageHtmls.append(entry)\n",
      "            print link\n",
      "        except:\n",
      "            print \"Error processing\",link\n",
      "    return pageHtmls\n",
      "\n",
      "def saveResults(results,fname):\n",
      "    f = open(fname,'w') #use a new file\n",
      "    pickle.dump(results,f)\n",
      "    f.close()\n",
      "    return"
     ],
     "language": "python",
     "metadata": {},
     "outputs": [],
     "prompt_number": 4
    },
    {
     "cell_type": "code",
     "collapsed": false,
     "input": [
      "results = pipeline('http://www.stylemepretty.com/midwest-weddings/page/83',40)"
     ],
     "language": "python",
     "metadata": {},
     "outputs": [
      {
       "output_type": "stream",
       "stream": "stdout",
       "text": [
        "http://www.stylemepretty.com/midwest-weddings/page/84/\n",
        "http://www.stylemepretty.com/midwest-weddings/page/85/"
       ]
      },
      {
       "output_type": "stream",
       "stream": "stdout",
       "text": [
        "\n",
        "http://www.stylemepretty.com/midwest-weddings/page/86/"
       ]
      },
      {
       "output_type": "stream",
       "stream": "stdout",
       "text": [
        "\n",
        "http://www.stylemepretty.com/midwest-weddings/page/87/"
       ]
      },
      {
       "output_type": "stream",
       "stream": "stdout",
       "text": [
        "\n",
        "http://www.stylemepretty.com/midwest-weddings/page/88/"
       ]
      },
      {
       "output_type": "stream",
       "stream": "stdout",
       "text": [
        "\n",
        "http://www.stylemepretty.com/midwest-weddings/page/89/"
       ]
      },
      {
       "output_type": "stream",
       "stream": "stdout",
       "text": [
        "\n",
        "http://www.stylemepretty.com/midwest-weddings/page/90/"
       ]
      },
      {
       "output_type": "stream",
       "stream": "stdout",
       "text": [
        "\n",
        "http://www.stylemepretty.com/midwest-weddings/page/91/"
       ]
      },
      {
       "output_type": "stream",
       "stream": "stdout",
       "text": [
        "\n",
        "http://www.stylemepretty.com/midwest-weddings/page/92/"
       ]
      },
      {
       "output_type": "stream",
       "stream": "stdout",
       "text": [
        "\n",
        "http://www.stylemepretty.com/midwest-weddings/page/93/"
       ]
      },
      {
       "output_type": "stream",
       "stream": "stdout",
       "text": [
        "\n",
        "http://www.stylemepretty.com/midwest-weddings/page/94/"
       ]
      },
      {
       "output_type": "stream",
       "stream": "stdout",
       "text": [
        "\n",
        "http://www.stylemepretty.com/midwest-weddings/page/95/"
       ]
      },
      {
       "output_type": "stream",
       "stream": "stdout",
       "text": [
        "\n",
        "http://www.stylemepretty.com/midwest-weddings/page/96/"
       ]
      },
      {
       "output_type": "stream",
       "stream": "stdout",
       "text": [
        "\n",
        "http://www.stylemepretty.com/midwest-weddings/page/97/"
       ]
      },
      {
       "output_type": "stream",
       "stream": "stdout",
       "text": [
        "\n",
        "http://www.stylemepretty.com/midwest-weddings/page/98/"
       ]
      },
      {
       "output_type": "stream",
       "stream": "stdout",
       "text": [
        "\n",
        "http://www.stylemepretty.com/midwest-weddings/page/99/"
       ]
      },
      {
       "output_type": "stream",
       "stream": "stdout",
       "text": [
        "\n",
        "http://www.stylemepretty.com/midwest-weddings/page/100/"
       ]
      },
      {
       "output_type": "stream",
       "stream": "stdout",
       "text": [
        "\n",
        "http://www.stylemepretty.com/midwest-weddings/page/101/"
       ]
      },
      {
       "output_type": "stream",
       "stream": "stdout",
       "text": [
        "\n",
        "http://www.stylemepretty.com/midwest-weddings/page/102/"
       ]
      },
      {
       "output_type": "stream",
       "stream": "stdout",
       "text": [
        "\n",
        "http://www.stylemepretty.com/midwest-weddings/page/103/"
       ]
      },
      {
       "output_type": "stream",
       "stream": "stdout",
       "text": [
        "\n",
        "http://www.stylemepretty.com/midwest-weddings/page/104/"
       ]
      },
      {
       "output_type": "stream",
       "stream": "stdout",
       "text": [
        "\n",
        "http://www.stylemepretty.com/midwest-weddings/page/105/"
       ]
      },
      {
       "output_type": "stream",
       "stream": "stdout",
       "text": [
        "\n",
        "http://www.stylemepretty.com/midwest-weddings/page/106/"
       ]
      },
      {
       "output_type": "stream",
       "stream": "stdout",
       "text": [
        "\n",
        "http://www.stylemepretty.com/midwest-weddings/page/107/"
       ]
      },
      {
       "output_type": "stream",
       "stream": "stdout",
       "text": [
        "\n",
        "http://www.stylemepretty.com/midwest-weddings/page/108/"
       ]
      },
      {
       "output_type": "stream",
       "stream": "stdout",
       "text": [
        "\n",
        "http://www.stylemepretty.com/midwest-weddings/page/109/"
       ]
      },
      {
       "output_type": "stream",
       "stream": "stdout",
       "text": [
        "\n",
        "http://www.stylemepretty.com/midwest-weddings/page/110/"
       ]
      },
      {
       "output_type": "stream",
       "stream": "stdout",
       "text": [
        "\n",
        "http://www.stylemepretty.com/midwest-weddings/page/111/"
       ]
      },
      {
       "output_type": "stream",
       "stream": "stdout",
       "text": [
        "\n",
        "http://www.stylemepretty.com/midwest-weddings/page/112/"
       ]
      },
      {
       "output_type": "stream",
       "stream": "stdout",
       "text": [
        "\n",
        "http://www.stylemepretty.com/midwest-weddings/page/113/"
       ]
      },
      {
       "output_type": "stream",
       "stream": "stdout",
       "text": [
        "\n",
        "http://www.stylemepretty.com/midwest-weddings/page/114/"
       ]
      },
      {
       "output_type": "stream",
       "stream": "stdout",
       "text": [
        "\n",
        "http://www.stylemepretty.com/midwest-weddings/page/115/"
       ]
      },
      {
       "output_type": "stream",
       "stream": "stdout",
       "text": [
        "\n",
        "http://www.stylemepretty.com/midwest-weddings/page/116/"
       ]
      },
      {
       "output_type": "stream",
       "stream": "stdout",
       "text": [
        "\n",
        "http://www.stylemepretty.com/midwest-weddings/page/117/"
       ]
      },
      {
       "output_type": "stream",
       "stream": "stdout",
       "text": [
        "\n",
        "http://www.stylemepretty.com/midwest-weddings/page/118/"
       ]
      },
      {
       "output_type": "stream",
       "stream": "stdout",
       "text": [
        "\n",
        "http://www.stylemepretty.com/midwest-weddings/page/119/"
       ]
      },
      {
       "output_type": "stream",
       "stream": "stdout",
       "text": [
        "\n",
        "http://www.stylemepretty.com/midwest-weddings/page/120/"
       ]
      },
      {
       "output_type": "stream",
       "stream": "stdout",
       "text": [
        "\n",
        "http://www.stylemepretty.com/midwest-weddings/page/121/"
       ]
      },
      {
       "output_type": "stream",
       "stream": "stdout",
       "text": [
        "\n",
        "http://www.stylemepretty.com/midwest-weddings/page/122/"
       ]
      },
      {
       "output_type": "stream",
       "stream": "stdout",
       "text": [
        "\n",
        "http://www.stylemepretty.com/midwest-weddings/page/123/"
       ]
      },
      {
       "output_type": "stream",
       "stream": "stdout",
       "text": [
        "\n",
        "Error processing"
       ]
      },
      {
       "output_type": "stream",
       "stream": "stdout",
       "text": [
        " http://www.stylemepretty.com/midwest-weddings/2014/01/04/style-me-pretty-midwest-welcomes-our-advertisers/\n",
        "http://www.stylemepretty.com/illinois-weddings/chicago/2014/01/03/classic-chicago-cultural-center-wedding/"
       ]
      },
      {
       "output_type": "stream",
       "stream": "stdout",
       "text": [
        "\n",
        "http://www.stylemepretty.com/illinois-weddings/2014/01/02/diy-wedding-at-bloomingdale-golf-club/"
       ]
      },
      {
       "output_type": "stream",
       "stream": "stdout",
       "text": [
        "\n",
        "http://www.stylemepretty.com/2013/12/31/new-years-engagement-session/"
       ]
      },
      {
       "output_type": "stream",
       "stream": "stdout",
       "text": [
        "\n",
        "Error processing"
       ]
      },
      {
       "output_type": "stream",
       "stream": "stdout",
       "text": [
        " http://www.stylemepretty.com/2013/12/31/via-vecchia-winery-winter-wedding/\n",
        "http://www.stylemepretty.com/little-black-book-blog/2013/12/30/omaha-country-club-wedding-inspiration-shoot/"
       ]
      },
      {
       "output_type": "stream",
       "stream": "stdout",
       "text": [
        "\n",
        "http://www.stylemepretty.com/illinois-weddings/chicago/2013/12/27/new-years-eve-w-hotel-chicago-greek-wedding/"
       ]
      },
      {
       "output_type": "stream",
       "stream": "stdout",
       "text": [
        "\n",
        "http://www.stylemepretty.com/illinois-weddings/chicago/2013/12/26/fultons-on-the-river-wedding/"
       ]
      },
      {
       "output_type": "stream",
       "stream": "stdout",
       "text": [
        "\n",
        "Error processing"
       ]
      },
      {
       "output_type": "stream",
       "stream": "stdout",
       "text": [
        " http://www.stylemepretty.com/illinois-weddings/2013/12/24/holiday-shoot-at-ide-christmas-tree-farm/\n",
        "Error processing"
       ]
      },
      {
       "output_type": "stream",
       "stream": "stdout",
       "text": [
        " http://www.stylemepretty.com/little-black-book-blog/2013/12/23/callaways-winter-wedding/\n",
        "Error processing"
       ]
      },
      {
       "output_type": "stream",
       "stream": "stdout",
       "text": [
        " http://www.stylemepretty.com/illinois-weddings/2013/12/23/winter-engagement-session/\n",
        "Error processing"
       ]
      },
      {
       "output_type": "stream",
       "stream": "stdout",
       "text": [
        " http://www.stylemepretty.com/2013/12/23/christmas-themed-engagement/\n",
        "Error processing"
       ]
      },
      {
       "output_type": "stream",
       "stream": "stdout",
       "text": [
        " http://www.stylemepretty.com/illinois-weddings/kenilworth-illinois/2013/12/20/kenilworth-club-wedding/\n",
        "http://www.stylemepretty.com/2013/12/19/omaha-wedding-at-shadowridge-country-club/"
       ]
      },
      {
       "output_type": "stream",
       "stream": "stdout",
       "text": [
        "\n",
        "Error processing"
       ]
      },
      {
       "output_type": "stream",
       "stream": "stdout",
       "text": [
        " http://www.stylemepretty.com/illinois-weddings/boarding-house-chicago/2013/12/18/emerald-inspired-photo-shoot/\n",
        "http://www.stylemepretty.com/illinois-weddings/chicago/2013/12/17/chicago-wedding-at-ravenswood-event-center/"
       ]
      },
      {
       "output_type": "stream",
       "stream": "stdout",
       "text": [
        "\n",
        "http://www.stylemepretty.com/2013/12/17/minnesota-lakeside-wedding/"
       ]
      },
      {
       "output_type": "stream",
       "stream": "stdout",
       "text": [
        "\n",
        "http://www.stylemepretty.com/illinois-weddings/chicago/lincoln-park/2013/12/16/lincoln-park-proposal/"
       ]
      },
      {
       "output_type": "stream",
       "stream": "stdout",
       "text": [
        "\n",
        "http://www.stylemepretty.com/illinois-weddings/bloomington-illinois/2013/12/13/bloomington-country-club-wedding/"
       ]
      },
      {
       "output_type": "stream",
       "stream": "stdout",
       "text": [
        "\n",
        "Error processing"
       ]
      },
      {
       "output_type": "stream",
       "stream": "stdout",
       "text": [
        " http://www.stylemepretty.com/illinois-weddings/chicago/2013/12/12/chicago-wedding-inspiration-shoot/\n",
        "http://www.stylemepretty.com/illinois-weddings/wheaton/2013/12/11/cantigny-park-wedding/"
       ]
      },
      {
       "output_type": "stream",
       "stream": "stdout",
       "text": [
        "\n",
        "http://www.stylemepretty.com/wisconsin-weddings/elkhart-lake/2013/12/10/elkhart-lake-wisconsin-wedding/"
       ]
      },
      {
       "output_type": "stream",
       "stream": "stdout",
       "text": [
        "\n",
        "http://www.stylemepretty.com/missouri-weddings/st-louis/2013/12/09/st-louis-wedding-at-kuhs-farm/"
       ]
      },
      {
       "output_type": "stream",
       "stream": "stdout",
       "text": [
        "\n",
        "Error processing"
       ]
      },
      {
       "output_type": "stream",
       "stream": "stdout",
       "text": [
        " http://www.stylemepretty.com/2013/12/06/st-louis-engagement-from-jordan-brittley/\n",
        "http://www.stylemepretty.com/little-black-book-blog/2013/12/05/columbus-ohio-wedding-from-rouxby-adrianne-elizabeth-events/"
       ]
      },
      {
       "output_type": "stream",
       "stream": "stdout",
       "text": [
        "\n",
        "http://www.stylemepretty.com/2013/12/04/michigan-backyard-beach-wedding-from-kelly-sweet-photography/"
       ]
      },
      {
       "output_type": "stream",
       "stream": "stdout",
       "text": [
        "\n",
        "Error processing"
       ]
      },
      {
       "output_type": "stream",
       "stream": "stdout",
       "text": [
        " http://www.stylemepretty.com/midwest-weddings/2013/12/03/ann-kam-photography-cinema/\n",
        "http://www.stylemepretty.com/2013/12/02/st-louis-garden-wedding-from-clary-photo/"
       ]
      },
      {
       "output_type": "stream",
       "stream": "stdout",
       "text": [
        "\n",
        "Error processing"
       ]
      },
      {
       "output_type": "stream",
       "stream": "stdout",
       "text": [
        " http://www.stylemepretty.com/illinois-weddings/chicago/2013/11/29/chicago-lakefront-engagement-from-alyssa-rosenheck-photography/\n",
        "http://www.stylemepretty.com/nebraska-weddings/omaha/2013/11/27/surprise-omaha-wedding-from-lovestru-ck-and-the-mullers/"
       ]
      },
      {
       "output_type": "stream",
       "stream": "stdout",
       "text": [
        "\n",
        "http://www.stylemepretty.com/2013/11/26/kansas-city-wedding-from-emily-steffen/"
       ]
      },
      {
       "output_type": "stream",
       "stream": "stdout",
       "text": [
        "\n",
        "http://www.stylemepretty.com/illinois-weddings/beach-park/2013/11/25/midsummer-nights-dream-wedding-from-kristin-la-voie-photography/"
       ]
      },
      {
       "output_type": "stream",
       "stream": "stdout",
       "text": [
        "\n",
        "http://www.stylemepretty.com/illinois-weddings/2013/11/22/volkening-heritage-farm-wedding-from-i-m-fotography/"
       ]
      },
      {
       "output_type": "stream",
       "stream": "stdout",
       "text": [
        "\n",
        "http://www.stylemepretty.com/illinois-weddings/chicago/2013/11/21/peggy-notebaert-nature-museum-wedding-by-ashley-biess-photography/"
       ]
      },
      {
       "output_type": "stream",
       "stream": "stdout",
       "text": [
        "\n",
        "Error processing"
       ]
      },
      {
       "output_type": "stream",
       "stream": "stdout",
       "text": [
        " http://www.stylemepretty.com/illinois-weddings/wilmette/2013/11/20/wilmette-engagement-by-kristin-la-voie-photography/\n",
        "Error processing"
       ]
      },
      {
       "output_type": "stream",
       "stream": "stdout",
       "text": [
        " http://www.stylemepretty.com/illinois-weddings/2013/11/19/herrington-inn-geneva-wedding-from-kina-wicks-photography/\n",
        "Error processing"
       ]
      },
      {
       "output_type": "stream",
       "stream": "stdout",
       "text": [
        " http://www.stylemepretty.com/illinois-weddings/the-couples-backyard-mendota/2013/11/18/backyard-engagement-session-from-tara-melissa-photographie/\n",
        "http://www.stylemepretty.com/little-black-book-blog/2013/11/18/cincinnati-indian-fusion-wedding-from-lang-thomas-photography/"
       ]
      },
      {
       "output_type": "stream",
       "stream": "stdout",
       "text": [
        "\n",
        "Error processing"
       ]
      },
      {
       "output_type": "stream",
       "stream": "stdout",
       "text": [
        " http://www.stylemepretty.com/illinois-weddings/kildeer/2013/11/15/elegant-chicago-wedding-from-jenelle-kappe-photography/\n",
        "http://www.stylemepretty.com/2013/11/15/lake-forest-illinois-wedding-from-laura-ivanova-photography/"
       ]
      },
      {
       "output_type": "stream",
       "stream": "stdout",
       "text": [
        "\n",
        "Error processing"
       ]
      },
      {
       "output_type": "stream",
       "stream": "stdout",
       "text": [
        " http://www.stylemepretty.com/illinois-weddings/chicago/2013/11/14/chicago-engagement-from-christy-tyler-photography/\n",
        "http://www.stylemepretty.com/2013/11/13/minnesota-wedding-from-emily-steffen-photography/"
       ]
      },
      {
       "output_type": "stream",
       "stream": "stdout",
       "text": [
        "\n",
        "Error processing"
       ]
      },
      {
       "output_type": "stream",
       "stream": "stdout",
       "text": [
        " http://www.stylemepretty.com/illinois-weddings/chicago/2013/11/13/chicago-engagement-from-kristin-la-voie-photography/\n",
        "http://www.stylemepretty.com/little-black-book-blog/2013/11/12/missouri-wedding-inspiration-from-todd-studios-photography-white-traditions-bridal-house/"
       ]
      },
      {
       "output_type": "stream",
       "stream": "stdout",
       "text": [
        "\n",
        "http://www.stylemepretty.com/illinois-weddings/chicago/2013/11/12/goose-island-wedding-at-gallery-1028-from-tim-tab-studios/"
       ]
      },
      {
       "output_type": "stream",
       "stream": "stdout",
       "text": [
        "\n",
        "http://www.stylemepretty.com/little-black-book-blog/2013/11/12/milwaukee-wedding-from-heather-cook-elliott-photography-3/"
       ]
      },
      {
       "output_type": "stream",
       "stream": "stdout",
       "text": [
        "\n",
        "http://www.stylemepretty.com/illinois-weddings/chicago/2013/11/11/modern-chicago-wedding-from-erica-rose-photography/"
       ]
      },
      {
       "output_type": "stream",
       "stream": "stdout",
       "text": [
        "\n",
        "Error processing"
       ]
      },
      {
       "output_type": "stream",
       "stream": "stdout",
       "text": [
        " http://www.stylemepretty.com/illinois-weddings/chicago/2013/11/08/french-market-wedding-at-galleria-marchetti-by-ashley-biess-photography/\n",
        "http://www.stylemepretty.com/illinois-weddings/addison/2013/11/07/addison-illinois-ballroom-wedding-from-brittania-drew-photo-and-video/"
       ]
      },
      {
       "output_type": "stream",
       "stream": "stdout",
       "text": [
        "\n",
        "Error processing"
       ]
      },
      {
       "output_type": "stream",
       "stream": "stdout",
       "text": [
        " http://www.stylemepretty.com/illinois-weddings/chicago/2013/11/06/chicago-lakefront-wedding-from-tim-tab-studios/\n",
        "Error processing"
       ]
      },
      {
       "output_type": "stream",
       "stream": "stdout",
       "text": [
        " http://www.stylemepretty.com/illinois-weddings/chicago/2013/11/05/chicago-engagement-session-from-sarah-postma-photography/\n",
        "http://www.stylemepretty.com/2013/11/04/michigan-lake-wedding-from-harwell-photography/"
       ]
      },
      {
       "output_type": "stream",
       "stream": "stdout",
       "text": [
        "\n",
        "http://www.stylemepretty.com/illinois-weddings/chicago/2013/11/04/chicago-wedding-at-harry-caray-from-kristin-la-voie-photography-shannon-gail-weddings-events/"
       ]
      },
      {
       "output_type": "stream",
       "stream": "stdout",
       "text": [
        "\n",
        "Error processing"
       ]
      },
      {
       "output_type": "stream",
       "stream": "stdout",
       "text": [
        " http://www.stylemepretty.com/illinois-weddings/chicago/2013/11/02/smp-illinois-welcomes-our-advertisers-4/\n",
        "http://www.stylemepretty.com/illinois-weddings/chicago/2013/11/01/chicago-wedding-at-fultons-on-the-river-from-jennifer-jackson-photography/"
       ]
      },
      {
       "output_type": "stream",
       "stream": "stdout",
       "text": [
        "\n",
        "http://www.stylemepretty.com/illinois-weddings/winfield/2013/10/31/fall-wedding-in-illinois-from-autumn-and-melinda-photography/"
       ]
      },
      {
       "output_type": "stream",
       "stream": "stdout",
       "text": [
        "\n",
        "http://www.stylemepretty.com/little-black-book-blog/2013/10/31/hocus-pocus-wedding-inspiration-from-meghan-savage-photography-sequined-silver-lining/"
       ]
      },
      {
       "output_type": "stream",
       "stream": "stdout",
       "text": [
        "\n",
        "http://www.stylemepretty.com/little-black-book-blog/2013/10/30/door-county-brunch-wedding-from-erin-jean-photography/"
       ]
      },
      {
       "output_type": "stream",
       "stream": "stdout",
       "text": [
        "\n",
        "Error processing"
       ]
      },
      {
       "output_type": "stream",
       "stream": "stdout",
       "text": [
        " http://www.stylemepretty.com/illinois-weddings/chicago/2013/10/30/chicago-engagement-from-melissa-hayes-photography/\n",
        "http://www.stylemepretty.com/illinois-weddings/2013/10/29/loyola-university-wedding-film-from-loudbyte-cinematography/"
       ]
      },
      {
       "output_type": "stream",
       "stream": "stdout",
       "text": [
        "\n",
        "http://www.stylemepretty.com/illinois-weddings/2013/10/29/loyola-university-wedding-from-kina-wicks-photography/"
       ]
      },
      {
       "output_type": "stream",
       "stream": "stdout",
       "text": [
        "\n",
        "http://www.stylemepretty.com/2013/10/28/eden-prairie-minnesota-wedding-from-munster-rose/"
       ]
      },
      {
       "output_type": "stream",
       "stream": "stdout",
       "text": [
        "\n",
        "http://www.stylemepretty.com/illinois-weddings/chicago/2013/10/28/elegant-classic-wedding-at-room-1520-in-chicago-from-samantha-simmons/"
       ]
      },
      {
       "output_type": "stream",
       "stream": "stdout",
       "text": [
        "\n",
        "http://www.stylemepretty.com/2013/10/25/missouri-rainbow-wedding-from-jordan-brittley-photography/"
       ]
      },
      {
       "output_type": "stream",
       "stream": "stdout",
       "text": [
        "\n",
        "http://www.stylemepretty.com/illinois-weddings/glenview/2013/10/25/glenview-wedding-at-valley-lo-club-from-kina-wicks-photography/"
       ]
      },
      {
       "output_type": "stream",
       "stream": "stdout",
       "text": [
        "\n",
        "http://www.stylemepretty.com/illinois-weddings/utica/2013/10/24/forest-wedding-at-starved-rock-state-park-from-laura-fisher-photography/"
       ]
      },
      {
       "output_type": "stream",
       "stream": "stdout",
       "text": [
        "\n",
        "http://www.stylemepretty.com/illinois-weddings/chicago/2013/10/23/parisian-wedding-in-downtown-chicago-from-cristina-g-photography/"
       ]
      },
      {
       "output_type": "stream",
       "stream": "stdout",
       "text": [
        "\n",
        "http://www.stylemepretty.com/2013/10/22/downton-abby-styled-shoot-from-stacy-able/"
       ]
      },
      {
       "output_type": "stream",
       "stream": "stdout",
       "text": [
        "\n",
        "Error processing"
       ]
      },
      {
       "output_type": "stream",
       "stream": "stdout",
       "text": [
        " http://www.stylemepretty.com/illinois-weddings/chicago/2013/10/22/chic-chicago-engagement-from-emilia-jane-photography/\n",
        "http://www.stylemepretty.com/little-black-book-blog/2013/10/22/cincinnati-wedding-from-kortnee-kate-photography-voila-cinematic/"
       ]
      },
      {
       "output_type": "stream",
       "stream": "stdout",
       "text": [
        "\n",
        "http://www.stylemepretty.com/illinois-weddings/2013/10/21/haley-mansion-wedding-from-m-three-studio/"
       ]
      },
      {
       "output_type": "stream",
       "stream": "stdout",
       "text": [
        "\n",
        "http://www.stylemepretty.com/illinois-weddings/chicago/2013/10/18/chicago-wedding-at-cafe-brauer-from-cristina-g-photography/"
       ]
      },
      {
       "output_type": "stream",
       "stream": "stdout",
       "text": [
        "\n",
        "http://www.stylemepretty.com/little-black-book-blog/2013/10/17/wisconsin-barn-wedding-from-la-de-da-photography/"
       ]
      },
      {
       "output_type": "stream",
       "stream": "stdout",
       "text": [
        "\n",
        "Error processing"
       ]
      },
      {
       "output_type": "stream",
       "stream": "stdout",
       "text": [
        " http://www.stylemepretty.com/2013/10/16/copper-inspired-wedding-shoot/\n",
        "Error processing"
       ]
      },
      {
       "output_type": "stream",
       "stream": "stdout",
       "text": [
        " http://www.stylemepretty.com/midwest-weddings/2013/10/16/maggianos-little-italy-weddings/\n",
        "http://www.stylemepretty.com/illinois-weddings/naperville/2013/10/15/hotel-arista-wedding-from-kristin-la-voie-photography/"
       ]
      },
      {
       "output_type": "stream",
       "stream": "stdout",
       "text": [
        "\n",
        "http://www.stylemepretty.com/illinois-weddings/chicago/2013/10/14/waldorf-chicago-elopement-from-emilia-jane-photography/"
       ]
      },
      {
       "output_type": "stream",
       "stream": "stdout",
       "text": [
        "\n",
        "http://www.stylemepretty.com/2013/10/14/missouri-backyard-wedding-from-jordan-brittley/"
       ]
      },
      {
       "output_type": "stream",
       "stream": "stdout",
       "text": [
        "\n",
        "http://www.stylemepretty.com/illinois-weddings/grayslake/2013/10/11/grayslake-barn-wedding-from-kristin-la-voie-photography/"
       ]
      },
      {
       "output_type": "stream",
       "stream": "stdout",
       "text": [
        "\n",
        "http://www.stylemepretty.com/illinois-weddings/2013/10/10/chicago-wedding-at-public-hotel-from-stacy-able/"
       ]
      },
      {
       "output_type": "stream",
       "stream": "stdout",
       "text": [
        "\n",
        "http://www.stylemepretty.com/illinois-weddings/chicago/2013/10/09/romantic-chicago-wedding-at-cafe-brauer-from-heather-parker-photography-i-do-films/"
       ]
      },
      {
       "output_type": "stream",
       "stream": "stdout",
       "text": [
        "\n",
        "Error processing"
       ]
      },
      {
       "output_type": "stream",
       "stream": "stdout",
       "text": [
        " http://www.stylemepretty.com/illinois-weddings/vernon-hills/2013/10/08/cuneo-mansion-bridal-shoot-from-emilia-jane-photography/\n",
        "http://www.stylemepretty.com/little-black-book-blog/2013/10/08/grand-rapids-wedding-from-k-holly-photography-2/"
       ]
      },
      {
       "output_type": "stream",
       "stream": "stdout",
       "text": [
        "\n",
        "http://www.stylemepretty.com/illinois-weddings/rockton/2013/10/07/orchard-ridge-farms-wedding-from-studio-starling-michelle-durpetti-events/"
       ]
      },
      {
       "output_type": "stream",
       "stream": "stdout",
       "text": [
        "\n",
        "http://www.stylemepretty.com/2013/10/04/backyard-picnic-wedding-from-lily-glass-photography/"
       ]
      },
      {
       "output_type": "stream",
       "stream": "stdout",
       "text": [
        "\n",
        "Error processing"
       ]
      },
      {
       "output_type": "stream",
       "stream": "stdout",
       "text": [
        " http://www.stylemepretty.com/illinois-weddings/chicago/2013/10/04/lake-michigan-engagement-from-kristin-la-voie-photography/\n",
        "http://www.stylemepretty.com/illinois-weddings/chicago/2013/10/03/chicago-wedding-at-loft-on-lake-from-gina-cristine/"
       ]
      },
      {
       "output_type": "stream",
       "stream": "stdout",
       "text": [
        "\n",
        "http://www.stylemepretty.com/illinois-weddings/chicago/2013/10/02/chicago-bridal-shoot-and-reception-by-markit-photography/"
       ]
      },
      {
       "output_type": "stream",
       "stream": "stdout",
       "text": [
        "\n",
        "http://www.stylemepretty.com/illinois-weddings/geneva-illinois/2013/10/01/geneva-illinois-wedding-at-oscar-swan-country-inn-from-dabble-me-this/"
       ]
      },
      {
       "output_type": "stream",
       "stream": "stdout",
       "text": [
        "\n",
        "http://www.stylemepretty.com/illinois-weddings/chicago/2013/09/30/peninsula-hotel-chicago-wedding-from-emilia-jane-photography/"
       ]
      },
      {
       "output_type": "stream",
       "stream": "stdout",
       "text": [
        "\n",
        "http://www.stylemepretty.com/2013/09/27/wiup-camping-engagement-from-diana-marie-photography-winners/"
       ]
      },
      {
       "output_type": "stream",
       "stream": "stdout",
       "text": [
        "\n",
        "http://www.stylemepretty.com/illinois-weddings/chicago/2013/09/27/chicago-wedding-at-galleria-marchetti-from-olivia-leigh-photographie/"
       ]
      },
      {
       "output_type": "stream",
       "stream": "stdout",
       "text": [
        "\n",
        "http://www.stylemepretty.com/illinois-weddings/chicago/2013/09/26/pakistani-fusion-wedding-at-thewit-chicago-from-robyn-rachel-photography/"
       ]
      },
      {
       "output_type": "stream",
       "stream": "stdout",
       "text": [
        "\n",
        "http://www.stylemepretty.com/illinois-weddings/chicago/2013/09/25/classic-wedding-at-the-drake-from-bellissima-photography-exquisite-designs/"
       ]
      },
      {
       "output_type": "stream",
       "stream": "stdout",
       "text": [
        "\n",
        "Error processing"
       ]
      },
      {
       "output_type": "stream",
       "stream": "stdout",
       "text": [
        " http://www.stylemepretty.com/illinois-weddings/2013/09/24/first-dance-crash-course-from-dance-spa/\n",
        "http://www.stylemepretty.com/illinois-weddings/chicago/2013/09/23/modern-wedding-inspiration-from-ann-kam-photography-citygirl-weddings/"
       ]
      },
      {
       "output_type": "stream",
       "stream": "stdout",
       "text": [
        "\n",
        "Error processing"
       ]
      },
      {
       "output_type": "stream",
       "stream": "stdout",
       "text": [
        " http://www.stylemepretty.com/illinois-weddings/chicago/2013/09/20/chicago-engagement-from-diana-lupu-photography/\n",
        "http://www.stylemepretty.com/illinois-weddings/chicago/2013/09/19/classic-downtown-chicago-wedding-from-sarah-postma-photography/"
       ]
      },
      {
       "output_type": "stream",
       "stream": "stdout",
       "text": [
        "\n",
        "http://www.stylemepretty.com/illinois-weddings/2013/09/18/grayslake-wedding-from-amanda-megan-miller-photography/"
       ]
      },
      {
       "output_type": "stream",
       "stream": "stdout",
       "text": [
        "\n",
        "http://www.stylemepretty.com/2013/09/17/door-county-photo-shoot-from-the-mccartneys-photography/"
       ]
      },
      {
       "output_type": "stream",
       "stream": "stdout",
       "text": [
        "\n",
        "Error processing"
       ]
      },
      {
       "output_type": "stream",
       "stream": "stdout",
       "text": [
        " http://www.stylemepretty.com/illinois-weddings/chicago/2013/09/17/greenhouse-loft-wedding-by-christy-tyler-photography/\n",
        "Error processing"
       ]
      },
      {
       "output_type": "stream",
       "stream": "stdout",
       "text": [
        " http://www.stylemepretty.com/illinois-weddings/wilmette/2013/09/16/nautical-themed-engagement-from-heartily-wed-wojoimage-photography/\n",
        "http://www.stylemepretty.com/wisconsin-weddings/lake-geneva/2013/09/13/lake-geneva-wedding-from-jacqui-cole-photography/"
       ]
      },
      {
       "output_type": "stream",
       "stream": "stdout",
       "text": [
        "\n",
        "http://www.stylemepretty.com/illinois-weddings/2013/09/12/chicago-wedding-from-robyn-rachel-photography-2/"
       ]
      },
      {
       "output_type": "stream",
       "stream": "stdout",
       "text": [
        "\n",
        "http://www.stylemepretty.com/illinois-weddings/capron/2013/09/10/illinois-farm-wedding-from-photography-by-katy-carlson/"
       ]
      },
      {
       "output_type": "stream",
       "stream": "stdout",
       "text": [
        "\n",
        "http://www.stylemepretty.com/illinois-weddings/chicago/2013/09/09/the-drake-hotel-wedding-from-shane-welch-photography/"
       ]
      },
      {
       "output_type": "stream",
       "stream": "stdout",
       "text": [
        "\n",
        "Error processing"
       ]
      },
      {
       "output_type": "stream",
       "stream": "stdout",
       "text": [
        " http://www.stylemepretty.com/midwest-weddings/2013/09/07/style-me-pretty-illinois-welcomes-our-advertisers-11/\n",
        "http://www.stylemepretty.com/little-black-book-blog/2013/09/06/cedar-rapids-wedding-weekend-from-melissa-hayes-photography/"
       ]
      },
      {
       "output_type": "stream",
       "stream": "stdout",
       "text": [
        "\n",
        "http://www.stylemepretty.com/illinois-weddings/lisle/2013/09/06/morton-arboretum-wedding-from-ashley-biess-photography/"
       ]
      },
      {
       "output_type": "stream",
       "stream": "stdout",
       "text": [
        "\n",
        "http://www.stylemepretty.com/little-black-book-blog/2013/09/06/branson-wedding-film-from-penweddings/"
       ]
      },
      {
       "output_type": "stream",
       "stream": "stdout",
       "text": [
        "\n",
        "http://www.stylemepretty.com/illinois-weddings/galena/2013/09/05/country-barn-wedding-in-galena-illinois-from-lauren-wakefield-photography/"
       ]
      },
      {
       "output_type": "stream",
       "stream": "stdout",
       "text": [
        "\n",
        "http://www.stylemepretty.com/illinois-weddings/hoffman-estates/2013/09/04/illinois-wedding-at-the-stonegate-from-evan-hunt-photo/"
       ]
      },
      {
       "output_type": "stream",
       "stream": "stdout",
       "text": [
        "\n",
        "http://www.stylemepretty.com/illinois-weddings/chicago/2013/09/03/chicago-rookery-wedding-from-dawn-e-roscoe-photography/"
       ]
      },
      {
       "output_type": "stream",
       "stream": "stdout",
       "text": [
        "\n",
        "http://www.stylemepretty.com/illinois-weddings/oswego/2013/09/02/romantic-rustic-wedding-at-emerson-creek-from-christopher-f-photography/"
       ]
      },
      {
       "output_type": "stream",
       "stream": "stdout",
       "text": [
        "\n",
        "http://www.stylemepretty.com/little-black-book-blog/2013/09/02/aurora-ohio-wedding-from-arielle-doneson-photography/"
       ]
      },
      {
       "output_type": "stream",
       "stream": "stdout",
       "text": [
        "\n",
        "Error processing"
       ]
      },
      {
       "output_type": "stream",
       "stream": "stdout",
       "text": [
        " http://www.stylemepretty.com/illinois-weddings/chicago/2013/08/30/chicago-engagement-session-by-katherine-salvatori-photography/\n",
        "http://www.stylemepretty.com/illinois-weddings/2013/08/29/riviera-country-club-wedding-from-b-g-photography/"
       ]
      },
      {
       "output_type": "stream",
       "stream": "stdout",
       "text": [
        "\n",
        "http://www.stylemepretty.com/illinois-weddings/chicago/2013/08/29/winnetka-community-house-wedding-by-katherine-salvatori-photography/"
       ]
      },
      {
       "output_type": "stream",
       "stream": "stdout",
       "text": [
        "\n",
        "http://www.stylemepretty.com/2013/08/29/wisconsin-wedding-from-woodnote-photography-2/"
       ]
      },
      {
       "output_type": "stream",
       "stream": "stdout",
       "text": [
        "\n",
        "http://www.stylemepretty.com/illinois-weddings/chicago/2013/08/28/chicago-wedding-at-lacuna-artist-lofts-from-amanda-megan-miller-photography/"
       ]
      },
      {
       "output_type": "stream",
       "stream": "stdout",
       "text": [
        "\n",
        "http://www.stylemepretty.com/illinois-weddings/2013/08/27/fox-river-grove-engagement-session-from-jenelle-kappe-photography/"
       ]
      },
      {
       "output_type": "stream",
       "stream": "stdout",
       "text": [
        "\n",
        "http://www.stylemepretty.com/illinois-weddings/chicago/2013/08/26/chicago-suburbs-wedding-from-jenelle-kappe-photography/"
       ]
      },
      {
       "output_type": "stream",
       "stream": "stdout",
       "text": [
        "\n",
        "Error processing"
       ]
      },
      {
       "output_type": "stream",
       "stream": "stdout",
       "text": [
        " http://www.stylemepretty.com/illinois-weddings/2013/08/23/bridal-shoe-round-up/\n",
        "http://www.stylemepretty.com/little-black-book-blog/2013/08/22/pinckney-michigan-wedding-from-amanda-dumouchelle-take-a-seat/"
       ]
      },
      {
       "output_type": "stream",
       "stream": "stdout",
       "text": [
        "\n",
        "http://www.stylemepretty.com/illinois-weddings/2013/08/22/sunrise-engagement-session-from-jacqui-cole-photography/"
       ]
      },
      {
       "output_type": "stream",
       "stream": "stdout",
       "text": [
        "\n",
        "http://www.stylemepretty.com/illinois-weddings/2013/08/21/chicago-wedding-from-evan-hunt-photo/"
       ]
      },
      {
       "output_type": "stream",
       "stream": "stdout",
       "text": [
        "\n",
        "http://www.stylemepretty.com/illinois-weddings/wheaton/2013/08/20/vintage-wedding-in-wheaton-illinois-from-chrystl-roberge-photography/"
       ]
      },
      {
       "output_type": "stream",
       "stream": "stdout",
       "text": [
        "\n",
        "http://www.stylemepretty.com/little-black-book-blog/2013/08/19/milwaukee-wedding-from-heather-cook-elliott-photography-2/"
       ]
      },
      {
       "output_type": "stream",
       "stream": "stdout",
       "text": [
        "\n",
        "http://www.stylemepretty.com/illinois-weddings/2013/08/19/chicago-rooftop-engagement-session-from-dabble-me-this/"
       ]
      },
      {
       "output_type": "stream",
       "stream": "stdout",
       "text": [
        "\n",
        "http://www.stylemepretty.com/little-black-book-blog/2013/08/19/wisconsin-lake-wedding-from-heather-cook-elliott-photography/"
       ]
      },
      {
       "output_type": "stream",
       "stream": "stdout",
       "text": [
        "\n",
        "Error processing"
       ]
      },
      {
       "output_type": "stream",
       "stream": "stdout",
       "text": [
        " http://www.stylemepretty.com/midwest-weddings/2013/08/17/style-me-pretty-illinois-welcomes-our-advertisers-10/\n",
        "http://www.stylemepretty.com/illinois-weddings/2013/08/16/chicago-engagement-from-stacy-able-photography/"
       ]
      },
      {
       "output_type": "stream",
       "stream": "stdout",
       "text": [
        "\n",
        "http://www.stylemepretty.com/illinois-weddings/2013/08/15/woodland-bridal-shoot-from-elizabeth-greve-photography/"
       ]
      },
      {
       "output_type": "stream",
       "stream": "stdout",
       "text": [
        "\n",
        "Error processing"
       ]
      },
      {
       "output_type": "stream",
       "stream": "stdout",
       "text": [
        " http://www.stylemepretty.com/illinois-weddings/chicago/2013/08/14/belmont-harbor-engagement-from-kristin-la-voie-photography/\n",
        "http://www.stylemepretty.com/2013/08/14/minnesota-winter-wedding-from-paper-antler-photography/"
       ]
      },
      {
       "output_type": "stream",
       "stream": "stdout",
       "text": [
        "\n",
        "http://www.stylemepretty.com/illinois-weddings/chicago/2013/08/13/chicago-wedding-from-two-birds-photography/"
       ]
      },
      {
       "output_type": "stream",
       "stream": "stdout",
       "text": [
        "\n",
        "http://www.stylemepretty.com/illinois-weddings/des-plaines/2013/08/12/illinois-wedding-at-the-fountain-blue-from-kina-wicks/"
       ]
      },
      {
       "output_type": "stream",
       "stream": "stdout",
       "text": [
        "\n",
        "http://www.stylemepretty.com/illinois-weddings/chicago/2013/08/09/peggy-notebaert-nature-museum-wedding-from-kristin-la-voie-photography/"
       ]
      },
      {
       "output_type": "stream",
       "stream": "stdout",
       "text": [
        "\n",
        "http://www.stylemepretty.com/illinois-weddings/chicago/2013/08/08/intimate-chicago-wedding-from-julia-franzosa/"
       ]
      },
      {
       "output_type": "stream",
       "stream": "stdout",
       "text": [
        "\n",
        "http://www.stylemepretty.com/illinois-weddings/chicago/2013/08/07/chicago-wedding-at-revolution-brewing-from-momoko-photography/"
       ]
      },
      {
       "output_type": "stream",
       "stream": "stdout",
       "text": [
        "\n",
        "http://www.stylemepretty.com/illinois-weddings/chicago/2013/08/06/chicago-art-institute-engagement-session-from-evan-hunt-photo/"
       ]
      },
      {
       "output_type": "stream",
       "stream": "stdout",
       "text": [
        "\n",
        "http://www.stylemepretty.com/2013/08/06/milwaukee-wedding-from-erin-jean-photography/"
       ]
      },
      {
       "output_type": "stream",
       "stream": "stdout",
       "text": [
        "\n",
        "http://www.stylemepretty.com/little-black-book-blog/2013/08/05/chicago-wedding-from-loudbyte-cinematography-2/"
       ]
      },
      {
       "output_type": "stream",
       "stream": "stdout",
       "text": [
        "\n",
        "http://www.stylemepretty.com/illinois-weddings/chicago/2013/08/05/chicago-cultural-center-wedding-from-olivia-leigh-photographie/"
       ]
      },
      {
       "output_type": "stream",
       "stream": "stdout",
       "text": [
        "\n",
        "Error processing"
       ]
      },
      {
       "output_type": "stream",
       "stream": "stdout",
       "text": [
        " http://www.stylemepretty.com/little-black-book-blog/2013/08/02/wisconsin-camp-engagement-session-from-emily-steffen-photography/\n",
        "http://www.stylemepretty.com/illinois-weddings/chicago/2013/08/02/chicago-wedding-at-the-bridgeport-art-center-from-kristin-la-voie-photography/"
       ]
      },
      {
       "output_type": "stream",
       "stream": "stdout",
       "text": [
        "\n",
        "http://www.stylemepretty.com/illinois-weddings/chicago/2013/08/01/newberry-library-wedding-from-evan-hunt-photo/"
       ]
      },
      {
       "output_type": "stream",
       "stream": "stdout",
       "text": [
        "\n",
        "http://www.stylemepretty.com/illinois-weddings/2013/07/31/ravinia-festival-wedding-from-olivia-leigh-photographie/"
       ]
      },
      {
       "output_type": "stream",
       "stream": "stdout",
       "text": [
        "\n",
        "http://www.stylemepretty.com/illinois-weddings/chicago/2013/07/30/interfaith-chicago-wedding-from-riverbend-studio-and-barbara-moss-events/"
       ]
      },
      {
       "output_type": "stream",
       "stream": "stdout",
       "text": [
        "\n",
        "http://www.stylemepretty.com/2013/07/30/st-louis-wedding-from-megan-thiele-studios/"
       ]
      },
      {
       "output_type": "stream",
       "stream": "stdout",
       "text": [
        "\n",
        "http://www.stylemepretty.com/illinois-weddings/chicago/2013/07/29/chicago-wedding-from-robyn-rachel-photography/"
       ]
      },
      {
       "output_type": "stream",
       "stream": "stdout",
       "text": [
        "\n",
        "http://www.stylemepretty.com/illinois-weddings/chicago/2013/07/26/chicago-wedding-from-cristina-g-photography-2/"
       ]
      },
      {
       "output_type": "stream",
       "stream": "stdout",
       "text": [
        "\n",
        "http://www.stylemepretty.com/illinois-weddings/2013/07/25/pumpkin-festival-anniversary-session-from-button-to-bliss-photography/"
       ]
      },
      {
       "output_type": "stream",
       "stream": "stdout",
       "text": [
        "\n",
        "http://www.stylemepretty.com/illinois-weddings/2013/07/24/rossville-wedding-from-wright-photographs/"
       ]
      },
      {
       "output_type": "stream",
       "stream": "stdout",
       "text": [
        "\n",
        "http://www.stylemepretty.com/illinois-weddings/chicago/2013/07/23/chicago-proposal-from-ann-kam-photography-cinema/"
       ]
      },
      {
       "output_type": "stream",
       "stream": "stdout",
       "text": [
        "\n",
        "http://www.stylemepretty.com/illinois-weddings/2013/07/22/chicago-wedding-at-room-1520-from-studio-starling/"
       ]
      },
      {
       "output_type": "stream",
       "stream": "stdout",
       "text": [
        "\n",
        "http://www.stylemepretty.com/little-black-book-blog/2013/07/22/coloma-wisconsin-wedding-from-yazy-jo/"
       ]
      },
      {
       "output_type": "stream",
       "stream": "stdout",
       "text": [
        "\n",
        "http://www.stylemepretty.com/little-black-book-blog/2013/07/19/madison-wedding-inspiration-from-krakora-studios-cherry-blossom-events/"
       ]
      },
      {
       "output_type": "stream",
       "stream": "stdout",
       "text": [
        "\n",
        "http://www.stylemepretty.com/illinois-weddings/chicago/2013/07/19/chicago-engagement-session-from-katie-kett-photography/"
       ]
      },
      {
       "output_type": "stream",
       "stream": "stdout",
       "text": [
        "\n",
        "http://www.stylemepretty.com/little-black-book-blog/2013/07/18/michigan-surpise-wedding-renewal-from-jamie-may-photography-white-dress-events/"
       ]
      },
      {
       "output_type": "stream",
       "stream": "stdout",
       "text": [
        "\n"
       ]
      }
     ],
     "prompt_number": 23
    },
    {
     "cell_type": "code",
     "collapsed": false,
     "input": [
      "saveResults(results,\"Midwest_83-123\")"
     ],
     "language": "python",
     "metadata": {},
     "outputs": [],
     "prompt_number": 24
    },
    {
     "cell_type": "code",
     "collapsed": false,
     "input": [
      "#len(pickle.load(open('California_22-81','r')))"
     ],
     "language": "python",
     "metadata": {},
     "outputs": [
      {
       "metadata": {},
       "output_type": "pyout",
       "prompt_number": 356,
       "text": [
        "136"
       ]
      }
     ],
     "prompt_number": 356
    },
    {
     "cell_type": "code",
     "collapsed": true,
     "input": [
      "52 + 136 + 240"
     ],
     "language": "python",
     "metadata": {},
     "outputs": []
    },
    {
     "cell_type": "code",
     "collapsed": false,
     "input": [
      "len(results)"
     ],
     "language": "python",
     "metadata": {},
     "outputs": [
      {
       "metadata": {},
       "output_type": "pyout",
       "prompt_number": 19,
       "text": [
        "123"
       ]
      }
     ],
     "prompt_number": 19
    },
    {
     "cell_type": "code",
     "collapsed": false,
     "input": [
      "print \"ok\""
     ],
     "language": "python",
     "metadata": {},
     "outputs": [
      {
       "output_type": "stream",
       "stream": "stdout",
       "text": [
        "ok\n"
       ]
      }
     ],
     "prompt_number": 20
    },
    {
     "cell_type": "code",
     "collapsed": false,
     "input": [],
     "language": "python",
     "metadata": {},
     "outputs": []
    }
   ],
   "metadata": {}
  }
 ]
}