{
 "metadata": {
  "name": "",
  "signature": "sha256:6003b7912b977a08ceed6bb75463be95df0ac5206dd3f5a110afea7e5b7eef18"
 },
 "nbformat": 3,
 "nbformat_minor": 0,
 "worksheets": [
  {
   "cells": [
    {
     "cell_type": "code",
     "collapsed": false,
     "input": [
      "import codecs,pickle\n",
      "import urllib2\n",
      "from bs4 import BeautifulSoup"
     ],
     "language": "python",
     "metadata": {},
     "outputs": [],
     "prompt_number": 344
    },
    {
     "cell_type": "code",
     "collapsed": false,
     "input": [
      "seed = \"http://www.stylemepretty.com/california-weddings/\""
     ],
     "language": "python",
     "metadata": {},
     "outputs": [],
     "prompt_number": 2
    },
    {
     "cell_type": "code",
     "collapsed": false,
     "input": [
      "#Helpers\n",
      "\n",
      "def getPageHtml(url):\n",
      "    #Returns pageHtml\n",
      "    return BeautifulSoup(urllib2.urlopen(url))\n",
      "\n",
      "def getLinks(pageHtml):\n",
      "    #Get all post links on that page\n",
      "    return [post[\"data-link\"] for post in pageHtml.find(\"div\",{\"class\",\"content\"}).find_all(\"div\",{\"class\",\"post\"}) ]\n",
      "\n",
      "def getLinkNextPage(pageHtml):\n",
      "    #Find link to next page\n",
      "    nxt = [link for link in pageHtml.find_all(\"link\") if link[\"rel\"][0]=='next']\n",
      "    if len(nxt) > 0:\n",
      "        return nxt[0][\"href\"]\n",
      "    return None\n",
      "\n",
      "def getParagraphs(pageHtml):\n",
      "    return [cleanText(p.text) for p in pageHtml.find_all(\"p\") if len(p.text) > 1]\n",
      "\n",
      "def getTags(pars):\n",
      "    tags = {}\n",
      "    for entry in pars.split(\" | \"):\n",
      "        try:\n",
      "           tags[entry.split(\": \")[0]] = entry.split(\": \")[1]\n",
      "        except:\n",
      "            pass\n",
      "    return tags\n",
      "    \n",
      "def getColors(pageHtml):\n",
      "    try:\n",
      "        return [link[\"href\"][35:].strip(\"/\") for link in pageHtml.find(\"div\",{\"class\",\"swatches\"}).find_all(\"a\")]\n",
      "    except:\n",
      "        return []\n",
      "    \n",
      "def getCategories(pageHtml):\n",
      "    links = pageHtml.find(\"div\",{\"class\",\"style-guide-container\"}).find_all('a')\n",
      "    colors = []\n",
      "    styles = []\n",
      "    settings = []\n",
      "    seasons = []\n",
      "    res= {}\n",
      "    for link in links:\n",
      "        temp = link['href']\n",
      "        if \"color\" in temp:\n",
      "            colors.append(link[\"href\"][35:].strip(\"/\"))\n",
      "        elif \"season\" in temp:\n",
      "            seasons.append(link[\"href\"][35:].strip(\"/\"))\n",
      "        elif \"setting\" in temp:\n",
      "            settings.append(link[\"href\"][37:].strip(\"/\"))\n",
      "        elif \"style\" in temp:\n",
      "            styles.append(link[\"href\"][35:].strip(\"/\"))\n",
      "        else:\n",
      "            pass\n",
      "    return {'colors':colors,'styles':styles,'settings':settings,'seasons':seasons}\n",
      "\n",
      "def cleanText(text):\n",
      "    t = []\n",
      "    for char in text:\n",
      "        try:\n",
      "            t += [char.encode('ascii')]\n",
      "        except:\n",
      "            t += [\" \"]\n",
      "    return \"\".join(t)\n",
      "\n",
      "def getAttributes(pageHtml,link):\n",
      "    dct = {}\n",
      "    paragraphs = getParagraphs(pageHtml)\n",
      "    dct[\"categories\"] = getCategories(pageHtml)\n",
      "    dct[\"paragraphs\"] = paragraphs[:-1]\n",
      "    dct[\"tags\"] = getTags(paragraphs[-1])\n",
      "    dct[\"original_link\"] = link\n",
      "    return dct"
     ],
     "language": "python",
     "metadata": {},
     "outputs": [],
     "prompt_number": 336
    },
    {
     "cell_type": "code",
     "collapsed": false,
     "input": [
      "def getAllPostLinks(seedURL,numPages=2):\n",
      "    #Get post links across multiple pages\n",
      "    postLinks = []\n",
      "    currHtml = getPageHtml(seedURL)\n",
      "    while numPages > 0:\n",
      "       \n",
      "        postLinks += getLinks(currHtml)\n",
      "        nxtLink = getLinkNextPage(currHtml)\n",
      "        if nxtLink:\n",
      "            print nxtLink\n",
      "            try:\n",
      "                currHtml = getPageHtml(nxtLink)\n",
      "            except:\n",
      "                print nxtLink,\"error\"\n",
      "        else:\n",
      "            print \"not modified\"\n",
      "            break\n",
      "        numPages -= 1\n",
      "    return postLinks\n",
      "\n",
      "def pipeline(seed,num):\n",
      "    links = getAllPostLinks(seed,num)\n",
      "    pageHtmls = []\n",
      "    for link in links:\n",
      "        try:\n",
      "            entry = getAttributes(getPageHtml(link),link)\n",
      "            pageHtmls.append(entry)\n",
      "        except:\n",
      "            print \"Error processing\",link\n",
      "    return pageHtmls\n",
      "\n",
      "def saveResults(results,fname):\n",
      "    f = open(fname,'w') #use a new file\n",
      "    pickle.dump(results,f)\n",
      "    f.close()\n",
      "    return"
     ],
     "language": "python",
     "metadata": {},
     "outputs": [],
     "prompt_number": 347
    },
    {
     "cell_type": "code",
     "collapsed": false,
     "input": [
      "results = pipeline('http://www.stylemepretty.com/california-weddings/page/82/',80)"
     ],
     "language": "python",
     "metadata": {},
     "outputs": [
      {
       "output_type": "stream",
       "stream": "stdout",
       "text": [
        "http://www.stylemepretty.com/california-weddings/page/83/\n",
        "http://www.stylemepretty.com/california-weddings/page/84/"
       ]
      },
      {
       "output_type": "stream",
       "stream": "stdout",
       "text": [
        "\n",
        "http://www.stylemepretty.com/california-weddings/page/85/"
       ]
      },
      {
       "output_type": "stream",
       "stream": "stdout",
       "text": [
        "\n",
        "http://www.stylemepretty.com/california-weddings/page/86/"
       ]
      },
      {
       "output_type": "stream",
       "stream": "stdout",
       "text": [
        "\n",
        "http://www.stylemepretty.com/california-weddings/page/87/"
       ]
      },
      {
       "output_type": "stream",
       "stream": "stdout",
       "text": [
        "\n",
        "http://www.stylemepretty.com/california-weddings/page/88/"
       ]
      },
      {
       "output_type": "stream",
       "stream": "stdout",
       "text": [
        "\n",
        "http://www.stylemepretty.com/california-weddings/page/89/"
       ]
      },
      {
       "output_type": "stream",
       "stream": "stdout",
       "text": [
        "\n",
        "http://www.stylemepretty.com/california-weddings/page/90/"
       ]
      },
      {
       "output_type": "stream",
       "stream": "stdout",
       "text": [
        "\n",
        "http://www.stylemepretty.com/california-weddings/page/91/"
       ]
      },
      {
       "output_type": "stream",
       "stream": "stdout",
       "text": [
        "\n",
        "http://www.stylemepretty.com/california-weddings/page/92/"
       ]
      }
     ]
    },
    {
     "cell_type": "code",
     "collapsed": false,
     "input": [
      "saveResults(results,\"California_22-81\")"
     ],
     "language": "python",
     "metadata": {},
     "outputs": [],
     "prompt_number": 354
    },
    {
     "cell_type": "code",
     "collapsed": false,
     "input": [
      "len(pickle.load(open('California_22-81','r')))"
     ],
     "language": "python",
     "metadata": {},
     "outputs": [
      {
       "metadata": {},
       "output_type": "pyout",
       "prompt_number": 356,
       "text": [
        "136"
       ]
      }
     ],
     "prompt_number": 356
    },
    {
     "cell_type": "code",
     "collapsed": true,
     "input": [
      "52 + 136"
     ],
     "language": "python",
     "metadata": {},
     "outputs": [
      {
       "metadata": {},
       "output_type": "pyout",
       "prompt_number": 357,
       "text": [
        "188"
       ]
      }
     ],
     "prompt_number": 357
    },
    {
     "cell_type": "code",
     "collapsed": false,
     "input": [],
     "language": "python",
     "metadata": {},
     "outputs": []
    }
   ],
   "metadata": {}
  }
 ]
}