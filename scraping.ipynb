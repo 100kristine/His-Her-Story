{
 "metadata": {
  "name": "",
  "signature": "sha256:1a740c077d3ffe7d6c6e6a8cbda1b4c3c5f04fca684778bee8ac7bbb9cf03f51"
 },
 "nbformat": 3,
 "nbformat_minor": 0,
 "worksheets": [
  {
   "cells": [
    {
     "cell_type": "code",
     "collapsed": false,
     "input": [
      "import codecs,pickle\n",
      "import urllib2\n",
      "from bs4 import BeautifulSoup"
     ],
     "language": "python",
     "metadata": {},
     "outputs": [],
     "prompt_number": 1
    },
    {
     "cell_type": "code",
     "collapsed": false,
     "input": [
      "seed = \"http://www.stylemepretty.com/california-weddings/\""
     ],
     "language": "python",
     "metadata": {},
     "outputs": [],
     "prompt_number": 2
    },
    {
     "cell_type": "code",
     "collapsed": false,
     "input": [
      "def tokenize(pars):\n",
      "    #tokenize text\n",
      "    # returns cleaned [tokenized sentences without punctuation] and collapsed [no dividers between sentences]\n",
      "    strng = ' '.join(pars)\n",
      "    words = [nltk.word_tokenize(sent) for sent in nltk.sent_tokenize(strng)]\n",
      "    punct = string.punctuation\n",
      "    cleaned = []\n",
      "    collapsed = []\n",
      "    for sentence in words:\n",
      "        cleaned.append([word for word in sentence if word not in punct])\n",
      "        for word in sentence:\n",
      "            if word not in punct:\n",
      "                collapsed.append(word)\n",
      "    return cleaned,collapsed\n",
      "\n",
      "def tag(sents):\n",
      "    #tag text\n",
      "    return [nltk.pos_tag(sent) for sent in sents]\n",
      "\n",
      "def tagAll(textObjects):\n",
      "    tagged = []\n",
      "    for obj in textObjects:\n",
      "        tagged.append([tag(text) for text in obj['paragraphs']])\n",
      "    return tagged\n",
      "\n",
      "def tagNtoken(data):\n",
      "    for url in data.keys():\n",
      "        cleaned,collapsed = tokenize(data[url]['paragraphs'])\n",
      "        data[url]['tokens'] = cleaned\n",
      "        data[url]['tagged'] = tag(data[url]['tokens'])\n",
      "        data[url]['collapsed'] = collapsed\n",
      "    return data"
     ],
     "language": "python",
     "metadata": {},
     "outputs": []
    },
    {
     "cell_type": "code",
     "collapsed": false,
     "input": [
      "#Helpers\n",
      "\n",
      "def getPageHtml(url):\n",
      "    #Returns pageHtml\n",
      "    return BeautifulSoup(urllib2.urlopen(url))\n",
      "\n",
      "def getLinks(pageHtml):\n",
      "    #Get all post links on that page\n",
      "    return [post[\"data-link\"] for post in pageHtml.find(\"div\",{\"class\",\"content\"}).find_all(\"div\",{\"class\",\"post\"}) ]\n",
      "\n",
      "def getLinkNextPage(pageHtml):\n",
      "    #Find link to next page\n",
      "    nxt = [link for link in pageHtml.find_all(\"link\") if link[\"rel\"][0]=='next']\n",
      "    if len(nxt) > 0:\n",
      "        return nxt[0][\"href\"]\n",
      "    return None\n",
      "\n",
      "def getParagraphs(pageHtml):\n",
      "    return [cleanText(p.text) for p in pageHtml.find_all(\"p\") if len(p.text) > 1]\n",
      "\n",
      "def getTags(pars):\n",
      "    tags = {}\n",
      "    for entry in pars.split(\" | \"):\n",
      "        try:\n",
      "           tags[entry.split(\": \")[0]] = entry.split(\": \")[1]\n",
      "        except:\n",
      "            pass\n",
      "    return tags\n",
      "    \n",
      "def getColors(pageHtml):\n",
      "    try:\n",
      "        return [link[\"href\"][35:].strip(\"/\") for link in pageHtml.find(\"div\",{\"class\",\"swatches\"}).find_all(\"a\")]\n",
      "    except:\n",
      "        return []\n",
      "    \n",
      "def getCategories(pageHtml):\n",
      "    links = pageHtml.find(\"div\",{\"class\",\"style-guide-container\"}).find_all('a')\n",
      "    colors = []\n",
      "    styles = []\n",
      "    settings = []\n",
      "    seasons = []\n",
      "    res= {}\n",
      "    for link in links:\n",
      "        temp = link['href']\n",
      "        if \"color\" in temp:\n",
      "            colors.append(link[\"href\"][35:].strip(\"/\"))\n",
      "        elif \"season\" in temp:\n",
      "            seasons.append(link[\"href\"][35:].strip(\"/\"))\n",
      "        elif \"setting\" in temp:\n",
      "            settings.append(link[\"href\"][37:].strip(\"/\"))\n",
      "        elif \"style\" in temp:\n",
      "            styles.append(link[\"href\"][35:].strip(\"/\"))\n",
      "        else:\n",
      "            pass\n",
      "    return {'colors':colors,'styles':styles,'settings':settings,'seasons':seasons}\n",
      "\n",
      "def cleanText(text):\n",
      "    t = []\n",
      "    for char in text:\n",
      "        try:\n",
      "            t += [char.encode('ascii')]\n",
      "        except:\n",
      "            t += [\" \"]\n",
      "    return \"\".join(t)\n",
      "\n",
      "def getAttributes(pageHtml,link):\n",
      "    dct = {}\n",
      "    paragraphs = getParagraphs(pageHtml)\n",
      "    dct[\"categories\"] = getCategories(pageHtml)\n",
      "    dct[\"paragraphs\"] = paragraphs[:-1]\n",
      "    dct[\"tags\"] = getTags(paragraphs[-1])\n",
      "    dct[\"original_link\"] = link\n",
      "    return dct"
     ],
     "language": "python",
     "metadata": {},
     "outputs": [],
     "prompt_number": 3
    },
    {
     "cell_type": "code",
     "collapsed": false,
     "input": [
      "def getAllPostLinks(seedURL,numPages=2):\n",
      "    #Get post links across multiple pages\n",
      "    postLinks = []\n",
      "    currHtml = getPageHtml(seedURL)\n",
      "    while numPages > 0:\n",
      "       \n",
      "        postLinks += getLinks(currHtml)\n",
      "        nxtLink = getLinkNextPage(currHtml)\n",
      "        if nxtLink:\n",
      "            print nxtLink\n",
      "            try:\n",
      "                currHtml = getPageHtml(nxtLink)\n",
      "            except:\n",
      "                print nxtLink,\"error\"\n",
      "        else:\n",
      "            print \"not modified\"\n",
      "            break\n",
      "        numPages -= 1\n",
      "    return postLinks\n",
      "\n",
      "def pipeline(seed,num):\n",
      "    links = getAllPostLinks(seed,num)\n",
      "    pageHtmls = []\n",
      "    for link in links:\n",
      "        try:\n",
      "            entry = getAttributes(getPageHtml(link),link)\n",
      "            pageHtmls.append(entry)\n",
      "            print link\n",
      "        except:\n",
      "            print \"Error processing\",link\n",
      "    return pageHtmls\n",
      "\n",
      "def saveResults(results,fname):\n",
      "    f = open(fname,'w') #use a new file\n",
      "    pickle.dump(results,f)\n",
      "    f.close()\n",
      "    return"
     ],
     "language": "python",
     "metadata": {},
     "outputs": [],
     "prompt_number": 6
    },
    {
     "cell_type": "code",
     "collapsed": false,
     "input": [
      "results = pipeline('http://www.stylemepretty.com/california-weddings/page/83/',60)"
     ],
     "language": "python",
     "metadata": {},
     "outputs": [
      {
       "output_type": "stream",
       "stream": "stdout",
       "text": [
        "http://www.stylemepretty.com/california-weddings/page/84/\n",
        "http://www.stylemepretty.com/california-weddings/page/85/"
       ]
      },
      {
       "output_type": "stream",
       "stream": "stdout",
       "text": [
        "\n",
        "http://www.stylemepretty.com/california-weddings/page/86/"
       ]
      },
      {
       "output_type": "stream",
       "stream": "stdout",
       "text": [
        "\n",
        "http://www.stylemepretty.com/california-weddings/page/87/"
       ]
      },
      {
       "output_type": "stream",
       "stream": "stdout",
       "text": [
        "\n",
        "http://www.stylemepretty.com/california-weddings/page/88/"
       ]
      },
      {
       "output_type": "stream",
       "stream": "stdout",
       "text": [
        "\n",
        "http://www.stylemepretty.com/california-weddings/page/89/"
       ]
      },
      {
       "output_type": "stream",
       "stream": "stdout",
       "text": [
        "\n",
        "http://www.stylemepretty.com/california-weddings/page/90/"
       ]
      },
      {
       "output_type": "stream",
       "stream": "stdout",
       "text": [
        "\n",
        "http://www.stylemepretty.com/california-weddings/page/91/"
       ]
      },
      {
       "output_type": "stream",
       "stream": "stdout",
       "text": [
        "\n",
        "http://www.stylemepretty.com/california-weddings/page/92/"
       ]
      },
      {
       "output_type": "stream",
       "stream": "stdout",
       "text": [
        "\n",
        "http://www.stylemepretty.com/california-weddings/page/93/"
       ]
      },
      {
       "output_type": "stream",
       "stream": "stdout",
       "text": [
        "\n",
        "http://www.stylemepretty.com/california-weddings/page/94/"
       ]
      },
      {
       "output_type": "stream",
       "stream": "stdout",
       "text": [
        "\n",
        "http://www.stylemepretty.com/california-weddings/page/95/"
       ]
      },
      {
       "output_type": "stream",
       "stream": "stdout",
       "text": [
        "\n",
        "http://www.stylemepretty.com/california-weddings/page/96/"
       ]
      },
      {
       "output_type": "stream",
       "stream": "stdout",
       "text": [
        "\n",
        "http://www.stylemepretty.com/california-weddings/page/97/"
       ]
      },
      {
       "output_type": "stream",
       "stream": "stdout",
       "text": [
        "\n",
        "http://www.stylemepretty.com/california-weddings/page/98/"
       ]
      },
      {
       "output_type": "stream",
       "stream": "stdout",
       "text": [
        "\n",
        "http://www.stylemepretty.com/california-weddings/page/99/"
       ]
      },
      {
       "output_type": "stream",
       "stream": "stdout",
       "text": [
        "\n",
        "http://www.stylemepretty.com/california-weddings/page/100/"
       ]
      },
      {
       "output_type": "stream",
       "stream": "stdout",
       "text": [
        "\n",
        "http://www.stylemepretty.com/california-weddings/page/101/"
       ]
      },
      {
       "output_type": "stream",
       "stream": "stdout",
       "text": [
        "\n",
        "http://www.stylemepretty.com/california-weddings/page/102/"
       ]
      },
      {
       "output_type": "stream",
       "stream": "stdout",
       "text": [
        "\n",
        "http://www.stylemepretty.com/california-weddings/page/103/"
       ]
      },
      {
       "output_type": "stream",
       "stream": "stdout",
       "text": [
        "\n",
        "http://www.stylemepretty.com/california-weddings/page/104/"
       ]
      },
      {
       "output_type": "stream",
       "stream": "stdout",
       "text": [
        "\n",
        "http://www.stylemepretty.com/california-weddings/page/105/"
       ]
      },
      {
       "output_type": "stream",
       "stream": "stdout",
       "text": [
        "\n",
        "http://www.stylemepretty.com/california-weddings/page/106/"
       ]
      },
      {
       "output_type": "stream",
       "stream": "stdout",
       "text": [
        "\n",
        "http://www.stylemepretty.com/california-weddings/page/107/"
       ]
      },
      {
       "output_type": "stream",
       "stream": "stdout",
       "text": [
        "\n",
        "http://www.stylemepretty.com/california-weddings/page/108/"
       ]
      },
      {
       "output_type": "stream",
       "stream": "stdout",
       "text": [
        "\n",
        "http://www.stylemepretty.com/california-weddings/page/109/"
       ]
      },
      {
       "output_type": "stream",
       "stream": "stdout",
       "text": [
        "\n",
        "http://www.stylemepretty.com/california-weddings/page/110/"
       ]
      },
      {
       "output_type": "stream",
       "stream": "stdout",
       "text": [
        "\n",
        "http://www.stylemepretty.com/california-weddings/page/111/"
       ]
      },
      {
       "output_type": "stream",
       "stream": "stdout",
       "text": [
        "\n",
        "http://www.stylemepretty.com/california-weddings/page/112/"
       ]
      },
      {
       "output_type": "stream",
       "stream": "stdout",
       "text": [
        "\n",
        "http://www.stylemepretty.com/california-weddings/page/113/"
       ]
      },
      {
       "output_type": "stream",
       "stream": "stdout",
       "text": [
        "\n",
        "http://www.stylemepretty.com/california-weddings/page/114/"
       ]
      },
      {
       "output_type": "stream",
       "stream": "stdout",
       "text": [
        "\n",
        "http://www.stylemepretty.com/california-weddings/page/115/"
       ]
      },
      {
       "output_type": "stream",
       "stream": "stdout",
       "text": [
        "\n",
        "http://www.stylemepretty.com/california-weddings/page/116/"
       ]
      },
      {
       "output_type": "stream",
       "stream": "stdout",
       "text": [
        "\n",
        "http://www.stylemepretty.com/california-weddings/page/117/"
       ]
      },
      {
       "output_type": "stream",
       "stream": "stdout",
       "text": [
        "\n",
        "http://www.stylemepretty.com/california-weddings/page/118/"
       ]
      },
      {
       "output_type": "stream",
       "stream": "stdout",
       "text": [
        "\n",
        "http://www.stylemepretty.com/california-weddings/page/119/"
       ]
      },
      {
       "output_type": "stream",
       "stream": "stdout",
       "text": [
        "\n",
        "http://www.stylemepretty.com/california-weddings/page/120/"
       ]
      },
      {
       "output_type": "stream",
       "stream": "stdout",
       "text": [
        "\n",
        "http://www.stylemepretty.com/california-weddings/page/121/"
       ]
      },
      {
       "output_type": "stream",
       "stream": "stdout",
       "text": [
        "\n",
        "http://www.stylemepretty.com/california-weddings/page/122/"
       ]
      },
      {
       "output_type": "stream",
       "stream": "stdout",
       "text": [
        "\n",
        "http://www.stylemepretty.com/california-weddings/page/123/"
       ]
      },
      {
       "output_type": "stream",
       "stream": "stdout",
       "text": [
        "\n",
        "http://www.stylemepretty.com/california-weddings/page/124/"
       ]
      },
      {
       "output_type": "stream",
       "stream": "stdout",
       "text": [
        "\n",
        "http://www.stylemepretty.com/california-weddings/page/125/"
       ]
      },
      {
       "output_type": "stream",
       "stream": "stdout",
       "text": [
        "\n",
        "http://www.stylemepretty.com/california-weddings/page/126/"
       ]
      },
      {
       "output_type": "stream",
       "stream": "stdout",
       "text": [
        "\n",
        "http://www.stylemepretty.com/california-weddings/page/127/"
       ]
      },
      {
       "output_type": "stream",
       "stream": "stdout",
       "text": [
        "\n",
        "http://www.stylemepretty.com/california-weddings/page/128/"
       ]
      },
      {
       "output_type": "stream",
       "stream": "stdout",
       "text": [
        "\n",
        "http://www.stylemepretty.com/california-weddings/page/129/"
       ]
      },
      {
       "output_type": "stream",
       "stream": "stdout",
       "text": [
        "\n",
        "http://www.stylemepretty.com/california-weddings/page/130/"
       ]
      },
      {
       "output_type": "stream",
       "stream": "stdout",
       "text": [
        "\n",
        "http://www.stylemepretty.com/california-weddings/page/131/"
       ]
      },
      {
       "output_type": "stream",
       "stream": "stdout",
       "text": [
        "\n",
        "http://www.stylemepretty.com/california-weddings/page/132/"
       ]
      },
      {
       "output_type": "stream",
       "stream": "stdout",
       "text": [
        "\n",
        "http://www.stylemepretty.com/california-weddings/page/133/"
       ]
      },
      {
       "output_type": "stream",
       "stream": "stdout",
       "text": [
        "\n",
        "http://www.stylemepretty.com/california-weddings/page/134/"
       ]
      },
      {
       "output_type": "stream",
       "stream": "stdout",
       "text": [
        "\n",
        "http://www.stylemepretty.com/california-weddings/page/135/"
       ]
      },
      {
       "output_type": "stream",
       "stream": "stdout",
       "text": [
        "\n",
        "http://www.stylemepretty.com/california-weddings/page/136/"
       ]
      },
      {
       "output_type": "stream",
       "stream": "stdout",
       "text": [
        "\n",
        "http://www.stylemepretty.com/california-weddings/page/137/"
       ]
      },
      {
       "output_type": "stream",
       "stream": "stdout",
       "text": [
        "\n",
        "http://www.stylemepretty.com/california-weddings/page/138/"
       ]
      },
      {
       "output_type": "stream",
       "stream": "stdout",
       "text": [
        "\n",
        "http://www.stylemepretty.com/california-weddings/page/139/"
       ]
      },
      {
       "output_type": "stream",
       "stream": "stdout",
       "text": [
        "\n",
        "http://www.stylemepretty.com/california-weddings/page/140/"
       ]
      },
      {
       "output_type": "stream",
       "stream": "stdout",
       "text": [
        "\n",
        "http://www.stylemepretty.com/california-weddings/page/141/"
       ]
      },
      {
       "output_type": "stream",
       "stream": "stdout",
       "text": [
        "\n",
        "http://www.stylemepretty.com/california-weddings/page/142/"
       ]
      },
      {
       "output_type": "stream",
       "stream": "stdout",
       "text": [
        "\n",
        "http://www.stylemepretty.com/california-weddings/page/143/"
       ]
      },
      {
       "output_type": "stream",
       "stream": "stdout",
       "text": [
        "\n",
        "http://www.stylemepretty.com/little-black-book-blog/2014/08/11/intimate-rustic-garden-wedding-at-rengstorff-house/"
       ]
      },
      {
       "output_type": "stream",
       "stream": "stdout",
       "text": [
        "\n",
        "http://www.stylemepretty.com/california-weddings/los-angeles/2014/08/11/romantic-los-angeles-wedding/"
       ]
      },
      {
       "output_type": "stream",
       "stream": "stdout",
       "text": [
        "\n",
        "http://www.stylemepretty.com/little-black-book-blog/2014/08/11/romantic-laguna-cliffs-wedding/"
       ]
      },
      {
       "output_type": "stream",
       "stream": "stdout",
       "text": [
        "\n",
        "Error processing"
       ]
      },
      {
       "output_type": "stream",
       "stream": "stdout",
       "text": [
        " http://www.stylemepretty.com/2014/08/08/adorable-la-engagement-film-wiup/\n",
        "http://www.stylemepretty.com/2014/08/08/french-garden-inspired-wedding-at-carmel-valley-ranch/"
       ]
      },
      {
       "output_type": "stream",
       "stream": "stdout",
       "text": [
        "\n",
        "Error processing"
       ]
      },
      {
       "output_type": "stream",
       "stream": "stdout",
       "text": [
        " http://www.stylemepretty.com/little-black-book-blog/2014/08/08/sunlit-san-luis-obispo-engagement/\n",
        "http://www.stylemepretty.com/2014/08/07/garden-sophistication-with-a-pop-of-pink/"
       ]
      },
      {
       "output_type": "stream",
       "stream": "stdout",
       "text": [
        "\n",
        "Error processing"
       ]
      },
      {
       "output_type": "stream",
       "stream": "stdout",
       "text": [
        " http://www.stylemepretty.com/little-black-book-blog/2014/08/07/oh-so-inspired-workshop-wedding-inspiration/\n",
        "http://www.stylemepretty.com/california-weddings/san-francisco/2014/08/07/beautiful-san-francisco-city-hall-elopement/"
       ]
      },
      {
       "output_type": "stream",
       "stream": "stdout",
       "text": [
        "\n",
        "http://www.stylemepretty.com/2014/08/06/fall-al-fresco-wedding-at-beaulieu-gardens/"
       ]
      },
      {
       "output_type": "stream",
       "stream": "stdout",
       "text": [
        "\n",
        "http://www.stylemepretty.com/2014/08/06/english-garden-inspired-wedding-in-southern-california/"
       ]
      },
      {
       "output_type": "stream",
       "stream": "stdout",
       "text": [
        "\n",
        "http://www.stylemepretty.com/2014/08/06/intimate-chic-wedding-at-westlake-village-inn/"
       ]
      },
      {
       "output_type": "stream",
       "stream": "stdout",
       "text": [
        "\n",
        "http://www.stylemepretty.com/little-black-book-blog/2014/08/06/romantic-garden-wedding-at-la-jolla-darlington-house/"
       ]
      },
      {
       "output_type": "stream",
       "stream": "stdout",
       "text": [
        "\n",
        "Error processing"
       ]
      },
      {
       "output_type": "stream",
       "stream": "stdout",
       "text": [
        " http://www.stylemepretty.com/2014/08/05/lauren-scruggs-jason-kennedy-a-los-angeles-engagement/\n",
        "Error processing"
       ]
      },
      {
       "output_type": "stream",
       "stream": "stdout",
       "text": [
        " http://www.stylemepretty.com/little-black-book-blog/2014/08/05/al-fresco-santa-ynez-engagement/\n",
        "http://www.stylemepretty.com/california-weddings/2014/08/05/seaside-california-wedding-at-the-gualala-arts-center/"
       ]
      },
      {
       "output_type": "stream",
       "stream": "stdout",
       "text": [
        "\n",
        "http://www.stylemepretty.com/2014/08/04/elegant-bohemian-wedding-in-sonoma-valley/"
       ]
      },
      {
       "output_type": "stream",
       "stream": "stdout",
       "text": [
        "\n",
        "http://www.stylemepretty.com/california-weddings/santa-barbara/2014/08/04/glamorous-santa-barbara-wedding/"
       ]
      },
      {
       "output_type": "stream",
       "stream": "stdout",
       "text": [
        "\n",
        "http://www.stylemepretty.com/2014/08/01/gold-and-blush-hued-outdoor-wedding-in-malibu/"
       ]
      },
      {
       "output_type": "stream",
       "stream": "stdout",
       "text": [
        "\n",
        "http://www.stylemepretty.com/little-black-book-blog/2014/08/01/wildflower-forest-wedding/"
       ]
      },
      {
       "output_type": "stream",
       "stream": "stdout",
       "text": [
        "\n",
        "http://www.stylemepretty.com/2014/07/31/mid-century-modern-wedding-at-the-parker/"
       ]
      },
      {
       "output_type": "stream",
       "stream": "stdout",
       "text": [
        "\n",
        "http://www.stylemepretty.com/little-black-book-blog/2014/07/31/romantic-nipomo-country-wedding/"
       ]
      },
      {
       "output_type": "stream",
       "stream": "stdout",
       "text": [
        "\n",
        "http://www.stylemepretty.com/california-weddings/goleta/2014/07/31/romantic-sun-filled-wedding-at-dos-pueblos-ranch/"
       ]
      },
      {
       "output_type": "stream",
       "stream": "stdout",
       "text": [
        "\n",
        "http://www.stylemepretty.com/2014/07/30/classic-vineyard-wedding-with-a-pop-of-color/"
       ]
      },
      {
       "output_type": "stream",
       "stream": "stdout",
       "text": [
        "\n",
        "http://www.stylemepretty.com/california-weddings/paso-robles/2014/07/29/romantic-vineyard-shoot-at-justin-vineyards-and-winery/"
       ]
      },
      {
       "output_type": "stream",
       "stream": "stdout",
       "text": [
        "\n",
        "http://www.stylemepretty.com/little-black-book-blog/2014/07/28/colorful-vintage-garden-wedding/"
       ]
      },
      {
       "output_type": "stream",
       "stream": "stdout",
       "text": [
        "\n",
        "http://www.stylemepretty.com/2014/07/28/elegant-beachside-wedding-in-la-jolla-california/"
       ]
      },
      {
       "output_type": "stream",
       "stream": "stdout",
       "text": [
        "\n",
        "http://www.stylemepretty.com/little-black-book-blog/2014/07/28/pink-garden-wedding-by-heidi-o-photo/"
       ]
      },
      {
       "output_type": "stream",
       "stream": "stdout",
       "text": [
        "\n",
        "http://www.stylemepretty.com/2014/07/28/modern-beach-house-wedding-inspiration/"
       ]
      },
      {
       "output_type": "stream",
       "stream": "stdout",
       "text": [
        "\n",
        "Error processing"
       ]
      },
      {
       "output_type": "stream",
       "stream": "stdout",
       "text": [
        " http://www.stylemepretty.com/2014/07/25/diy-wooden-pallet-backdrop-wiup/\n",
        "http://www.stylemepretty.com/little-black-book-blog/2014/07/25/simple-elegant-tuscan-wedding-inspiration/"
       ]
      },
      {
       "output_type": "stream",
       "stream": "stdout",
       "text": [
        "\n",
        "http://www.stylemepretty.com/little-black-book-blog/2014/07/25/vintage-glam-mountain-wedding/"
       ]
      },
      {
       "output_type": "stream",
       "stream": "stdout",
       "text": [
        "\n",
        "http://www.stylemepretty.com/2014/07/25/classic-indoor-wedding-with-a-dash-of-glam/"
       ]
      },
      {
       "output_type": "stream",
       "stream": "stdout",
       "text": [
        "\n",
        "http://www.stylemepretty.com/2014/07/24/sunny-al-fresco-wedding-in-ojai/"
       ]
      },
      {
       "output_type": "stream",
       "stream": "stdout",
       "text": [
        "\n",
        "http://www.stylemepretty.com/california-weddings/los-altos/2014/07/24/romantic-pretty-in-pink-inspiration-shoot/"
       ]
      },
      {
       "output_type": "stream",
       "stream": "stdout",
       "text": [
        "\n",
        "http://www.stylemepretty.com/2014/07/22/bohemian-wedding-in-carmel-with-a-fall-color-pallete/"
       ]
      },
      {
       "output_type": "stream",
       "stream": "stdout",
       "text": [
        "\n",
        "http://www.stylemepretty.com/little-black-book-blog/2014/07/21/romantic-speakeasy-wedding-at-marvimon/"
       ]
      },
      {
       "output_type": "stream",
       "stream": "stdout",
       "text": [
        "\n",
        "http://www.stylemepretty.com/california-weddings/santa-barbara/2014/07/21/santa-barbara-day-after-shoot/"
       ]
      },
      {
       "output_type": "stream",
       "stream": "stdout",
       "text": [
        "\n",
        "http://www.stylemepretty.com/destination-weddings/2014/07/21/simple-sweet-yosemite-elopement/"
       ]
      },
      {
       "output_type": "stream",
       "stream": "stdout",
       "text": [
        "\n",
        "http://www.stylemepretty.com/2014/07/18/backyard-garden-wedding-in-northern-california/"
       ]
      },
      {
       "output_type": "stream",
       "stream": "stdout",
       "text": [
        "\n",
        "http://www.stylemepretty.com/little-black-book-blog/2014/07/18/romantic-vintage-garden-wedding-inspiration/"
       ]
      },
      {
       "output_type": "stream",
       "stream": "stdout",
       "text": [
        "\n",
        "http://www.stylemepretty.com/2014/07/17/al-fresco-elegance-at-cal-a-vie/"
       ]
      },
      {
       "output_type": "stream",
       "stream": "stdout",
       "text": [
        "\n",
        "Error processing"
       ]
      },
      {
       "output_type": "stream",
       "stream": "stdout",
       "text": [
        " http://www.stylemepretty.com/2014/07/17/doie-lounge-robes-a-giveaway-2/\n",
        "http://www.stylemepretty.com/little-black-book-blog/2014/07/16/romantic-oak-glen-garden-wedding/"
       ]
      },
      {
       "output_type": "stream",
       "stream": "stdout",
       "text": [
        "\n",
        "http://www.stylemepretty.com/california-weddings/newport-coast/2014/07/15/garden-inspired-ballroom-wedding-at-pelican-hill/"
       ]
      },
      {
       "output_type": "stream",
       "stream": "stdout",
       "text": [
        "\n",
        "http://www.stylemepretty.com/2014/07/14/romantic-garden-wedding-under-a-sea-of-chandeliers/"
       ]
      },
      {
       "output_type": "stream",
       "stream": "stdout",
       "text": [
        "\n",
        "http://www.stylemepretty.com/california-weddings/livermore/2014/07/14/blush-and-sequin-wedding-at-murrietas-well/"
       ]
      },
      {
       "output_type": "stream",
       "stream": "stdout",
       "text": [
        "\n",
        "http://www.stylemepretty.com/little-black-book-blog/2014/07/14/classic-casa-del-mar-wedding/"
       ]
      },
      {
       "output_type": "stream",
       "stream": "stdout",
       "text": [
        "\n",
        "http://www.stylemepretty.com/2014/07/11/picnic-in-the-park-engagement-session-wiup/"
       ]
      },
      {
       "output_type": "stream",
       "stream": "stdout",
       "text": [
        "\n",
        "http://www.stylemepretty.com/2014/07/11/romantic-destination-wedding-at-stryker-sonoma-winery/"
       ]
      },
      {
       "output_type": "stream",
       "stream": "stdout",
       "text": [
        "\n",
        "http://www.stylemepretty.com/little-black-book-blog/2014/07/11/al-fresco-wedding-in-santa-barbara/"
       ]
      },
      {
       "output_type": "stream",
       "stream": "stdout",
       "text": [
        "\n",
        "http://www.stylemepretty.com/california-weddings/2014/07/10/rustic-elegant-wedding-inspiration-at-miners-foundry/"
       ]
      },
      {
       "output_type": "stream",
       "stream": "stdout",
       "text": [
        "\n",
        "http://www.stylemepretty.com/2014/07/10/classic-affair-in-san-francisco-with-a-modern-twist/"
       ]
      },
      {
       "output_type": "stream",
       "stream": "stdout",
       "text": [
        "\n",
        "http://www.stylemepretty.com/california-weddings/hollywood/2014/07/10/whimsical-hollywood-engagement-session/"
       ]
      },
      {
       "output_type": "stream",
       "stream": "stdout",
       "text": [
        "\n",
        "http://www.stylemepretty.com/little-black-book-blog/2014/07/09/sunny-elings-park-wedding/"
       ]
      },
      {
       "output_type": "stream",
       "stream": "stdout",
       "text": [
        "\n",
        "http://www.stylemepretty.com/california-weddings/orange-county/2014/07/09/summer-beach-wedding-in-orange-county/"
       ]
      },
      {
       "output_type": "stream",
       "stream": "stdout",
       "text": [
        "\n",
        "http://www.stylemepretty.com/little-black-book-blog/2014/07/09/romantic-montecito-country-club-wedding/"
       ]
      },
      {
       "output_type": "stream",
       "stream": "stdout",
       "text": [
        "\n",
        "http://www.stylemepretty.com/little-black-book-blog/2014/07/08/romantic-diy-vineyard-wedding/"
       ]
      },
      {
       "output_type": "stream",
       "stream": "stdout",
       "text": [
        "\n",
        "http://www.stylemepretty.com/2014/07/08/glamorous-affair-at-the-london-west-hollywood/"
       ]
      },
      {
       "output_type": "stream",
       "stream": "stdout",
       "text": [
        "\n",
        "http://www.stylemepretty.com/california-weddings/palos-verdes/2014/07/08/surprise-coastal-wedding/"
       ]
      },
      {
       "output_type": "stream",
       "stream": "stdout",
       "text": [
        "\n",
        "http://www.stylemepretty.com/2014/07/07/forest-inspired-indoor-wedding/"
       ]
      },
      {
       "output_type": "stream",
       "stream": "stdout",
       "text": [
        "\n",
        "http://www.stylemepretty.com/california-weddings/newport-beach/2014/07/07/newport-beach-ballroom-wedding/"
       ]
      },
      {
       "output_type": "stream",
       "stream": "stdout",
       "text": [
        "\n",
        "Error processing"
       ]
      },
      {
       "output_type": "stream",
       "stream": "stdout",
       "text": [
        " http://www.stylemepretty.com/california-weddings/los-angeles/2014/07/07/at-home-engagement-session/\n",
        "http://www.stylemepretty.com/california-weddings/2014/07/04/al-fresco-calistoga-wedding-with-layers-of-pink/"
       ]
      },
      {
       "output_type": "stream",
       "stream": "stdout",
       "text": [
        "\n",
        "http://www.stylemepretty.com/little-black-book-blog/2014/07/03/romantic-mint-blush-vineyard-wedding/"
       ]
      },
      {
       "output_type": "stream",
       "stream": "stdout",
       "text": [
        "\n",
        "Error processing"
       ]
      },
      {
       "output_type": "stream",
       "stream": "stdout",
       "text": [
        " http://www.stylemepretty.com/california-weddings/san-francisco/2014/07/03/san-francisco-hilltop-engagement/\n",
        "Error processing"
       ]
      },
      {
       "output_type": "stream",
       "stream": "stdout",
       "text": [
        " http://www.stylemepretty.com/little-black-book-blog/2014/07/03/a-whimsical-swan-inspired-wedding-session/\n",
        "http://www.stylemepretty.com/little-black-book-blog/2014/07/02/elegant-coral-gold-coto-de-caza-wedding/"
       ]
      },
      {
       "output_type": "stream",
       "stream": "stdout",
       "text": [
        "\n",
        "http://www.stylemepretty.com/california-weddings/los-gatos/2014/07/02/santa-cruz-wedding-at-nestldown/"
       ]
      },
      {
       "output_type": "stream",
       "stream": "stdout",
       "text": [
        "\n",
        "http://www.stylemepretty.com/california-weddings/palm-springs/2014/07/01/romantic-and-adventurous-engagement-session/"
       ]
      },
      {
       "output_type": "stream",
       "stream": "stdout",
       "text": [
        "\n",
        "Error processing"
       ]
      },
      {
       "output_type": "stream",
       "stream": "stdout",
       "text": [
        " http://www.stylemepretty.com/california-weddings/laguna-beach/2014/06/30/colorful-autumn-wedding-in-orange-county/\n",
        "http://www.stylemepretty.com/little-black-book-blog/2014/06/30/spring-polo-club-wedding/"
       ]
      },
      {
       "output_type": "stream",
       "stream": "stdout",
       "text": [
        "\n",
        "http://www.stylemepretty.com/california-weddings/laguna-beach/2014/06/30/laguna-garden-wedding-at-st-regis-monarch-beach/"
       ]
      },
      {
       "output_type": "stream",
       "stream": "stdout",
       "text": [
        "\n",
        "http://www.stylemepretty.com/2014/06/27/colorful-vineyard-celebration-in-california/"
       ]
      },
      {
       "output_type": "stream",
       "stream": "stdout",
       "text": [
        "\n",
        "http://www.stylemepretty.com/california-weddings/santa-barbara/2014/06/27/colorful-ranch-wedding/"
       ]
      },
      {
       "output_type": "stream",
       "stream": "stdout",
       "text": [
        "\n",
        "http://www.stylemepretty.com/little-black-book-blog/2014/06/27/romantic-villa-de-amore-wedding/"
       ]
      },
      {
       "output_type": "stream",
       "stream": "stdout",
       "text": [
        "\n",
        "http://www.stylemepretty.com/california-weddings/los-angeles/2014/06/26/art-deco-inspired-wedding-at-skirball-cultural-center/"
       ]
      },
      {
       "output_type": "stream",
       "stream": "stdout",
       "text": [
        "\n",
        "http://www.stylemepretty.com/california-weddings/laguna-niguel/2014/06/26/stylish-orange-county-wedding-at-the-ritz-carlton-laguna-niguel/"
       ]
      },
      {
       "output_type": "stream",
       "stream": "stdout",
       "text": [
        "\n",
        "http://www.stylemepretty.com/little-black-book-blog/2014/06/26/elegant-santa-barbara-wedding-at-bacara-resort/"
       ]
      },
      {
       "output_type": "stream",
       "stream": "stdout",
       "text": [
        "\n",
        "http://www.stylemepretty.com/california-weddings/los-angeles/2014/06/25/vintage-inspired-la-wedding/"
       ]
      },
      {
       "output_type": "stream",
       "stream": "stdout",
       "text": [
        "\n",
        "http://www.stylemepretty.com/little-black-book-blog/2014/06/25/modern-elegant-wedding-at-miramonte-resort-spa/"
       ]
      },
      {
       "output_type": "stream",
       "stream": "stdout",
       "text": [
        "\n",
        "Error processing"
       ]
      },
      {
       "output_type": "stream",
       "stream": "stdout",
       "text": [
        " http://www.stylemepretty.com/california-weddings/la-jolla/2014/06/25/bridal-boudoir-at-the-darlington-house/\n",
        "http://www.stylemepretty.com/2014/06/25/all-white-modern-hollywood-wedding/"
       ]
      },
      {
       "output_type": "stream",
       "stream": "stdout",
       "text": [
        "\n",
        "http://www.stylemepretty.com/california-weddings/carmel-valley/2014/06/24/elegant-and-relaxed-ranch-wedding/"
       ]
      },
      {
       "output_type": "stream",
       "stream": "stdout",
       "text": [
        "\n",
        "http://www.stylemepretty.com/2014/06/24/classic-white-wedding-with-stunning-floral-installation/"
       ]
      },
      {
       "output_type": "stream",
       "stream": "stdout",
       "text": [
        "\n",
        "http://www.stylemepretty.com/california-weddings/ojai/2014/06/24/rustic-elegant-styled-winter-wedding-shoot-at-bodees-rancho-grande/"
       ]
      },
      {
       "output_type": "stream",
       "stream": "stdout",
       "text": [
        "\n",
        "http://www.stylemepretty.com/california-weddings/2014/06/23/rustic-redlands-wedding/"
       ]
      },
      {
       "output_type": "stream",
       "stream": "stdout",
       "text": [
        "\n",
        "http://www.stylemepretty.com/california-weddings/malibu/2014/06/23/elegant-ranch-wedding-in-malibu/"
       ]
      },
      {
       "output_type": "stream",
       "stream": "stdout",
       "text": [
        "\n",
        "http://www.stylemepretty.com/2014/06/23/modern-garden-wedding-at-nestldown/"
       ]
      },
      {
       "output_type": "stream",
       "stream": "stdout",
       "text": [
        "\n",
        "http://www.stylemepretty.com/california-weddings/2014/06/23/elegant-san-diego-wedding-at-the-maderas-golf-club/"
       ]
      },
      {
       "output_type": "stream",
       "stream": "stdout",
       "text": [
        "\n",
        "Error processing"
       ]
      },
      {
       "output_type": "stream",
       "stream": "stdout",
       "text": [
        " http://www.stylemepretty.com/california-weddings/culver-city/2014/06/20/vintage-inspired-engagement-session/\n",
        "http://www.stylemepretty.com/california-weddings/santa-barbara/2014/06/20/sweet-elopement-at-mural-room-of-the-santa-barbara-courthouse/"
       ]
      },
      {
       "output_type": "stream",
       "stream": "stdout",
       "text": [
        "\n",
        "Error processing"
       ]
      },
      {
       "output_type": "stream",
       "stream": "stdout",
       "text": [
        " http://www.stylemepretty.com/california-weddings/santa-barbara/2014/06/20/fairytale-santa-barbara-wedding-film/\n",
        "Error processing"
       ]
      },
      {
       "output_type": "stream",
       "stream": "stdout",
       "text": [
        " http://www.stylemepretty.com/2014/06/19/designer-trunk-shows-at-love-and-lace-bridal/\n",
        "http://www.stylemepretty.com/california-weddings/santa-rosa/2014/06/18/rustic-ranch-wedding-2/"
       ]
      },
      {
       "output_type": "stream",
       "stream": "stdout",
       "text": [
        "\n",
        "http://www.stylemepretty.com/california-weddings/los-angeles/2014/06/18/traditional-downtown-los-angeles-wedding/"
       ]
      },
      {
       "output_type": "stream",
       "stream": "stdout",
       "text": [
        "\n",
        "http://www.stylemepretty.com/california-weddings/sacramento/2014/06/18/art-deco-inspired-wedding-at-sacramento-grand-ballroom/"
       ]
      },
      {
       "output_type": "stream",
       "stream": "stdout",
       "text": [
        "\n",
        "http://www.stylemepretty.com/california-weddings/santa-barbara/2014/06/17/romantic-al-fresco-wedding-at-the-santa-barbara-historical-museum/"
       ]
      },
      {
       "output_type": "stream",
       "stream": "stdout",
       "text": [
        "\n",
        "http://www.stylemepretty.com/california-weddings/vacaville/2014/06/17/wine-country-engagement-session/"
       ]
      },
      {
       "output_type": "stream",
       "stream": "stdout",
       "text": [
        "\n",
        "http://www.stylemepretty.com/california-weddings/pasadena/2014/06/17/cultural-wedding-at-ambassador-mansion-gardens/"
       ]
      },
      {
       "output_type": "stream",
       "stream": "stdout",
       "text": [
        "\n",
        "http://www.stylemepretty.com/california-weddings/temecula/2014/06/16/rustic-meets-romantic-diy-wedding/"
       ]
      },
      {
       "output_type": "stream",
       "stream": "stdout",
       "text": [
        "\n",
        "http://www.stylemepretty.com/california-weddings/beverly-hills/2014/06/16/elegant-beverly-hills-estate-wedding/"
       ]
      },
      {
       "output_type": "stream",
       "stream": "stdout",
       "text": [
        "\n",
        "http://www.stylemepretty.com/2014/06/16/al-fresco-healdsburg-wedding/"
       ]
      },
      {
       "output_type": "stream",
       "stream": "stdout",
       "text": [
        "\n",
        "http://www.stylemepretty.com/california-weddings/2014/06/16/sweet-st-helena-backyard-wedding/"
       ]
      },
      {
       "output_type": "stream",
       "stream": "stdout",
       "text": [
        "\n",
        "http://www.stylemepretty.com/california-weddings/santa-barbara/2014/06/13/elegant-santa-barbara-estate-wedding/"
       ]
      },
      {
       "output_type": "stream",
       "stream": "stdout",
       "text": [
        "\n",
        "http://www.stylemepretty.com/california-weddings/carmel-valley/2014/06/13/handmade-travel-inspired-wedding-at-holman-ranch/"
       ]
      },
      {
       "output_type": "stream",
       "stream": "stdout",
       "text": [
        "\n",
        "http://www.stylemepretty.com/2014/06/13/romantic-california-estate-wedding-at-kohl-mansion/"
       ]
      },
      {
       "output_type": "stream",
       "stream": "stdout",
       "text": [
        "\n",
        "http://www.stylemepretty.com/little-black-book-blog/2014/06/13/traditional-san-rafael-wedding-film/"
       ]
      },
      {
       "output_type": "stream",
       "stream": "stdout",
       "text": [
        "\n",
        "http://www.stylemepretty.com/california-weddings/san-francisco/2014/06/13/san-francisco-wedding-at-the-james-leary-flood-mansion-2/"
       ]
      },
      {
       "output_type": "stream",
       "stream": "stdout",
       "text": [
        "\n",
        "http://www.stylemepretty.com/california-weddings/2014/06/12/rustic-california-ranch-wedding/"
       ]
      },
      {
       "output_type": "stream",
       "stream": "stdout",
       "text": [
        "\n",
        "http://www.stylemepretty.com/california-weddings/glen-ellen/2014/06/12/romantic-meets-rustic-wine-country-wedding/"
       ]
      },
      {
       "output_type": "stream",
       "stream": "stdout",
       "text": [
        "\n",
        "http://www.stylemepretty.com/california-weddings/ojai/2014/06/12/rustic-ojai-wedding/"
       ]
      },
      {
       "output_type": "stream",
       "stream": "stdout",
       "text": [
        "\n",
        "http://www.stylemepretty.com/california-weddings/san-luis-obispo/2014/06/11/romantic-country-club-wedding/"
       ]
      },
      {
       "output_type": "stream",
       "stream": "stdout",
       "text": [
        "\n",
        "http://www.stylemepretty.com/california-weddings/lake-tahoe-ca/2014/06/11/romantic-mountain-wedding-at-resort-at-squaw-creek/"
       ]
      },
      {
       "output_type": "stream",
       "stream": "stdout",
       "text": [
        "\n",
        "http://www.stylemepretty.com/california-weddings/montecito/2014/06/11/glamorous-wedding-at-historic-estate/"
       ]
      },
      {
       "output_type": "stream",
       "stream": "stdout",
       "text": [
        "\n",
        "http://www.stylemepretty.com/little-black-book-blog/2014/06/11/elegant-thomas-fogarty-winery-wedding/"
       ]
      },
      {
       "output_type": "stream",
       "stream": "stdout",
       "text": [
        "\n",
        "http://www.stylemepretty.com/california-weddings/sebastopol/2014/06/10/romantic-vineyard-wedding/"
       ]
      },
      {
       "output_type": "stream",
       "stream": "stdout",
       "text": [
        "\n",
        "http://www.stylemepretty.com/california-weddings/ojai/2014/06/10/charming-california-wedding-at-ojai-valley-inn/"
       ]
      },
      {
       "output_type": "stream",
       "stream": "stdout",
       "text": [
        "\n",
        "http://www.stylemepretty.com/2014/06/10/outdoor-elegance-at-the-kohl-mansion/"
       ]
      },
      {
       "output_type": "stream",
       "stream": "stdout",
       "text": [
        "\n",
        "Error processing"
       ]
      },
      {
       "output_type": "stream",
       "stream": "stdout",
       "text": [
        " http://www.stylemepretty.com/california-weddings/2014/06/10/boathouse-engagement-session/\n",
        "http://www.stylemepretty.com/california-weddings/santa-barbara/2014/06/09/elegant-garden-wedding-2/"
       ]
      },
      {
       "output_type": "stream",
       "stream": "stdout",
       "text": [
        "\n",
        "http://www.stylemepretty.com/california-weddings/los-angeles/2014/06/09/sweet-los-angeles-wedding-at-smog-shoppe/"
       ]
      },
      {
       "output_type": "stream",
       "stream": "stdout",
       "text": [
        "\n",
        "http://www.stylemepretty.com/california-weddings/ramona/2014/06/09/bold-autumn-backyard-wedding/"
       ]
      },
      {
       "output_type": "stream",
       "stream": "stdout",
       "text": [
        "\n",
        "http://www.stylemepretty.com/california-weddings/carmel-valley/2014/06/06/colorful-indian-wedding-2/"
       ]
      },
      {
       "output_type": "stream",
       "stream": "stdout",
       "text": [
        "\n",
        "http://www.stylemepretty.com/california-weddings/san-luis-obispo/2014/06/06/thoughtful-rustic-diy-wedding/"
       ]
      },
      {
       "output_type": "stream",
       "stream": "stdout",
       "text": [
        "\n",
        "http://www.stylemepretty.com/california-weddings/2014/06/05/san-juan-capistrano-wedding-at-serra-plaza/"
       ]
      },
      {
       "output_type": "stream",
       "stream": "stdout",
       "text": [
        "\n",
        "Error processing"
       ]
      },
      {
       "output_type": "stream",
       "stream": "stdout",
       "text": [
        " http://www.stylemepretty.com/little-black-book-blog/2014/06/05/motorcycle-love-session/\n",
        "Error processing"
       ]
      },
      {
       "output_type": "stream",
       "stream": "stdout",
       "text": [
        " http://www.stylemepretty.com/california-weddings/santa-barbara/2014/06/05/casual-santa-barbara-engagement/\n",
        "http://www.stylemepretty.com/california-weddings/san-clemente/2014/06/04/colorful-backyard-wedding-2/"
       ]
      },
      {
       "output_type": "stream",
       "stream": "stdout",
       "text": [
        "\n",
        "http://www.stylemepretty.com/california-weddings/malibu/2014/06/04/rustic-glamour-in-malibu/"
       ]
      },
      {
       "output_type": "stream",
       "stream": "stdout",
       "text": [
        "\n",
        "Error processing"
       ]
      },
      {
       "output_type": "stream",
       "stream": "stdout",
       "text": [
        " http://www.stylemepretty.com/little-black-book-blog/2014/06/03/rustic-ranch-wedding-inspiration/\n",
        "Error processing"
       ]
      },
      {
       "output_type": "stream",
       "stream": "stdout",
       "text": [
        " http://www.stylemepretty.com/california-weddings/anaheim/2014/06/03/disneyland-engagement-session/\n",
        "http://www.stylemepretty.com/california-weddings/san-francisco/2014/06/03/circus-inspired-wedding-at-the-san-francisco-exploratorium/"
       ]
      },
      {
       "output_type": "stream",
       "stream": "stdout",
       "text": [
        "\n",
        "http://www.stylemepretty.com/california-weddings/2014/06/03/elegant-al-fresco-affair/"
       ]
      },
      {
       "output_type": "stream",
       "stream": "stdout",
       "text": [
        "\n",
        "http://www.stylemepretty.com/california-weddings/los-angeles/2014/06/02/intimate-los-angeles-wedding-at-smogshoppe/"
       ]
      },
      {
       "output_type": "stream",
       "stream": "stdout",
       "text": [
        "\n",
        "Error processing"
       ]
      },
      {
       "output_type": "stream",
       "stream": "stdout",
       "text": [
        " http://www.stylemepretty.com/california-weddings/2014/06/02/romantic-yellow-gray-wedding-2/\n",
        "Error processing"
       ]
      },
      {
       "output_type": "stream",
       "stream": "stdout",
       "text": [
        " http://www.stylemepretty.com/california-weddings/carlsbad/2014/06/02/festive-double-wedding/\n",
        "http://www.stylemepretty.com/california-weddings/sonoma/2014/05/30/music-inspired-sonoma-wedding/"
       ]
      },
      {
       "output_type": "stream",
       "stream": "stdout",
       "text": [
        "\n",
        "Error processing"
       ]
      },
      {
       "output_type": "stream",
       "stream": "stdout",
       "text": [
        " http://www.stylemepretty.com/2014/05/30/santa-monica-beach-engagement-wiup/\n",
        "http://www.stylemepretty.com/california-weddings/2014/05/30/rustic-elegance-at-paradise-springs-2/"
       ]
      },
      {
       "output_type": "stream",
       "stream": "stdout",
       "text": [
        "\n",
        "http://www.stylemepretty.com/little-black-book-blog/2014/05/30/elegant-al-fresco-wedding-at-home/"
       ]
      },
      {
       "output_type": "stream",
       "stream": "stdout",
       "text": [
        "\n",
        "http://www.stylemepretty.com/california-weddings/walnut/2014/05/30/romantic-poetry-inspired-photo-shoot/"
       ]
      },
      {
       "output_type": "stream",
       "stream": "stdout",
       "text": [
        "\n",
        "http://www.stylemepretty.com/2014/05/30/diy-summer-ranch-wedding/"
       ]
      },
      {
       "output_type": "stream",
       "stream": "stdout",
       "text": [
        "\n",
        "Error processing"
       ]
      },
      {
       "output_type": "stream",
       "stream": "stdout",
       "text": [
        " http://www.stylemepretty.com/2014/05/29/love-session-in-the-hills-of-los-olivos/\n",
        "Error processing"
       ]
      },
      {
       "output_type": "stream",
       "stream": "stdout",
       "text": [
        " http://www.stylemepretty.com/2014/05/29/paperwhites-photography-a-discount/\n",
        "http://www.stylemepretty.com/california-weddings/santa-barbara/2014/05/28/romantic-san-ysidro-ranch-wedding/"
       ]
      },
      {
       "output_type": "stream",
       "stream": "stdout",
       "text": [
        "\n",
        "http://www.stylemepretty.com/california-weddings/napa/2014/05/28/napa-valley-wedding-at-shady-oaks-ranch/"
       ]
      },
      {
       "output_type": "stream",
       "stream": "stdout",
       "text": [
        "\n",
        "Error processing"
       ]
      },
      {
       "output_type": "stream",
       "stream": "stdout",
       "text": [
        " http://www.stylemepretty.com/2014/05/28/floral-tips-for-a-destination-i-do/\n",
        "http://www.stylemepretty.com/california-weddings/fullerton/2014/05/28/sweet-romantic-wedding-in-orange-county/"
       ]
      },
      {
       "output_type": "stream",
       "stream": "stdout",
       "text": [
        "\n",
        "http://www.stylemepretty.com/california-weddings/silverado/2014/05/27/elegant-rancho-las-lomas-wedding/"
       ]
      },
      {
       "output_type": "stream",
       "stream": "stdout",
       "text": [
        "\n",
        "http://www.stylemepretty.com/california-weddings/santa-margarita/2014/05/27/romantic-yellow-navy-blue-wedding-at-spanish-oaks-ranch/"
       ]
      },
      {
       "output_type": "stream",
       "stream": "stdout",
       "text": [
        "\n",
        "Error processing"
       ]
      },
      {
       "output_type": "stream",
       "stream": "stdout",
       "text": [
        " http://www.stylemepretty.com/california-weddings/santa-monica/2014/05/27/santa-monica-boardwalk-engagement/\n",
        "http://www.stylemepretty.com/california-weddings/2014/05/26/rustic-parisian-wedding-inspiration/"
       ]
      },
      {
       "output_type": "stream",
       "stream": "stdout",
       "text": [
        "\n",
        "http://www.stylemepretty.com/little-black-book-blog/2014/05/26/deployed-groom-returns-home-to-romantic-ranch-wedding/"
       ]
      },
      {
       "output_type": "stream",
       "stream": "stdout",
       "text": [
        "\n",
        "Error processing"
       ]
      },
      {
       "output_type": "stream",
       "stream": "stdout",
       "text": [
        " http://www.stylemepretty.com/living/2014/05/26/nautical-baby-shower/\n",
        "http://www.stylemepretty.com/california-weddings/2014/05/24/diy-long-meadow-ranch-wedding/"
       ]
      },
      {
       "output_type": "stream",
       "stream": "stdout",
       "text": [
        "\n",
        "Error processing"
       ]
      },
      {
       "output_type": "stream",
       "stream": "stdout",
       "text": [
        " http://www.stylemepretty.com/california-weddings/san-francisco/2014/05/24/romantic-garden-inspired-wedding/\n",
        "http://www.stylemepretty.com/california-weddings/newport-ca/2014/05/24/nautical-yacht-club-wedding/"
       ]
      },
      {
       "output_type": "stream",
       "stream": "stdout",
       "text": [
        "\n",
        "http://www.stylemepretty.com/california-weddings/bay-area/2014/05/24/modern-rustic-ranch-wedding/"
       ]
      },
      {
       "output_type": "stream",
       "stream": "stdout",
       "text": [
        "\n",
        "Error processing"
       ]
      },
      {
       "output_type": "stream",
       "stream": "stdout",
       "text": [
        " http://www.stylemepretty.com/california-weddings/carmel/2014/05/23/carmel-by-the-sea-engagement/\n",
        "http://www.stylemepretty.com/california-weddings/carlsbad/2014/05/23/romantic-carlsbad-wedding/"
       ]
      },
      {
       "output_type": "stream",
       "stream": "stdout",
       "text": [
        "\n",
        "Error processing"
       ]
      },
      {
       "output_type": "stream",
       "stream": "stdout",
       "text": [
        " http://www.stylemepretty.com/living/2014/05/23/blairs-first-birthday/\n",
        "http://www.stylemepretty.com/california-weddings/culver-city/2014/05/23/colorful-california-wedding-inspired-by-uno-cards/"
       ]
      },
      {
       "output_type": "stream",
       "stream": "stdout",
       "text": [
        "\n",
        "Error processing"
       ]
      },
      {
       "output_type": "stream",
       "stream": "stdout",
       "text": [
        " http://www.stylemepretty.com/living/2014/05/23/10-tips-to-get-in-tip-top-shape-with-danielle-cuccio/\n",
        "http://www.stylemepretty.com/california-weddings/sonoma/2014/05/22/colorful-viansa-winery-wedding/"
       ]
      },
      {
       "output_type": "stream",
       "stream": "stdout",
       "text": [
        "\n",
        "http://www.stylemepretty.com/california-weddings/pleasanton/2014/05/22/glamorous-vintage-inspired-wedding/"
       ]
      },
      {
       "output_type": "stream",
       "stream": "stdout",
       "text": [
        "\n",
        "http://www.stylemepretty.com/california-weddings/orange-county/2014/05/22/autumnal-romance-in-southern-california/"
       ]
      },
      {
       "output_type": "stream",
       "stream": "stdout",
       "text": [
        "\n",
        "http://www.stylemepretty.com/california-weddings/san-francisco/2014/05/21/elegant-blush-gold-wedding-at-the-fairmont/"
       ]
      },
      {
       "output_type": "stream",
       "stream": "stdout",
       "text": [
        "\n",
        "http://www.stylemepretty.com/california-weddings/calistoga/2014/05/21/solage-calistoga-wedding/"
       ]
      },
      {
       "output_type": "stream",
       "stream": "stdout",
       "text": [
        "\n",
        "Error processing"
       ]
      },
      {
       "output_type": "stream",
       "stream": "stdout",
       "text": [
        " http://www.stylemepretty.com/california-weddings/2014/05/21/diy-backyard-wedding-in-yucaipa/\n",
        "Error processing"
       ]
      },
      {
       "output_type": "stream",
       "stream": "stdout",
       "text": [
        " http://www.stylemepretty.com/california-weddings/camarillo/2014/05/20/rustic-camarillo-ranch-wedding/\n",
        "http://www.stylemepretty.com/california-weddings/palm-springs/2014/05/20/elegant-palm-springs-wedding/"
       ]
      },
      {
       "output_type": "stream",
       "stream": "stdout",
       "text": [
        "\n",
        "http://www.stylemepretty.com/california-weddings/2014/05/20/colorful-fall-california-wedding-on-a-budget/"
       ]
      },
      {
       "output_type": "stream",
       "stream": "stdout",
       "text": [
        "\n",
        "http://www.stylemepretty.com/california-weddings/san-francisco/2014/05/19/headlands-center-for-the-arts-wedding/"
       ]
      },
      {
       "output_type": "stream",
       "stream": "stdout",
       "text": [
        "\n",
        "http://www.stylemepretty.com/california-weddings/san-luis-obispo/2014/05/19/rustic-celebration-in-san-luis-obispo/"
       ]
      },
      {
       "output_type": "stream",
       "stream": "stdout",
       "text": [
        "\n",
        "Error processing"
       ]
      },
      {
       "output_type": "stream",
       "stream": "stdout",
       "text": [
        " http://www.stylemepretty.com/living/2014/05/19/ban-do-home-tour/\n",
        "http://www.stylemepretty.com/california-weddings/anaheim/2014/05/19/beautiful-wedding-in-anaheim/"
       ]
      },
      {
       "output_type": "stream",
       "stream": "stdout",
       "text": [
        "\n",
        "Error processing"
       ]
      },
      {
       "output_type": "stream",
       "stream": "stdout",
       "text": [
        " http://www.stylemepretty.com/2014/05/17/style-me-pretty-california-welcomes-our-advertisers-a-discount-2/\n",
        "http://www.stylemepretty.com/california-weddings/bel-air/2014/05/16/elegant-bel-air-estate-wedding/"
       ]
      },
      {
       "output_type": "stream",
       "stream": "stdout",
       "text": [
        "\n",
        "http://www.stylemepretty.com/2014/05/16/rustic-gold-and-mint-wedding-wiup/"
       ]
      },
      {
       "output_type": "stream",
       "stream": "stdout",
       "text": [
        "\n"
       ]
      }
     ],
     "prompt_number": 7
    },
    {
     "cell_type": "code",
     "collapsed": false,
     "input": [
      "saveResults(results,\"California_83-143\")"
     ],
     "language": "python",
     "metadata": {},
     "outputs": [],
     "prompt_number": 8
    },
    {
     "cell_type": "code",
     "collapsed": false,
     "input": [
      "#len(pickle.load(open('California_22-81','r')))"
     ],
     "language": "python",
     "metadata": {},
     "outputs": [
      {
       "metadata": {},
       "output_type": "pyout",
       "prompt_number": 356,
       "text": [
        "136"
       ]
      }
     ],
     "prompt_number": 356
    },
    {
     "cell_type": "code",
     "collapsed": true,
     "input": [
      "52 + 136 + 240"
     ],
     "language": "python",
     "metadata": {},
     "outputs": []
    },
    {
     "cell_type": "code",
     "collapsed": false,
     "input": [],
     "language": "python",
     "metadata": {},
     "outputs": []
    }
   ],
   "metadata": {}
  }
 ]
}